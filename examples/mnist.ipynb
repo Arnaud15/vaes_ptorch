{
 "cells": [
  {
   "cell_type": "markdown",
   "id": "9b40a331-59dc-40fe-99a1-65a5fb5c3f99",
   "metadata": {},
   "source": [
    "## VAEs on MNIST"
   ]
  },
  {
   "cell_type": "markdown",
   "id": "25463372-50d4-4141-bee5-9d0b58fae335",
   "metadata": {},
   "source": [
    "#### Imports"
   ]
  },
  {
   "cell_type": "code",
   "execution_count": 1,
   "id": "7321b105-99ae-49b5-9b2e-c10ea7056d0b",
   "metadata": {},
   "outputs": [],
   "source": [
    "import os\n",
    "\n",
    "import torch\n",
    "import torch.utils.data as tdata\n",
    "import torchvision\n",
    "import torchvision.transforms as T\n",
    "\n",
    "from vaes_ptorch import (\n",
    "    CNN,\n",
    "    DeCNN,\n",
    "    GaussianModel,\n",
    "    GaussianVAE,\n",
    "    TrainArgs,\n",
    "    get_mlp,\n",
    "    train,\n",
    ")\n",
    "from vaes_ptorch.args import DivAnnealing\n",
    "from vaes_ptorch.train_vae import evaluate\n",
    "from vaes_ptorch.utils import show"
   ]
  },
  {
   "cell_type": "markdown",
   "id": "cf4c3ef0-0690-4cce-91e5-f7e4b9ae2ac6",
   "metadata": {},
   "source": [
    "#### Experiment parameters"
   ]
  },
  {
   "cell_type": "code",
   "execution_count": 2,
   "id": "bdac4160-0941-462e-8aa5-762c78315524",
   "metadata": {},
   "outputs": [],
   "source": [
    "latent_dim = 2\n",
    "\n",
    "lr = 1e-3\n",
    "batch_size = 128\n",
    "num_epochs = 10\n",
    "\n",
    "print_every = 50\n",
    "eval_every = 1\n",
    "\n",
    "info_vae = True\n",
    "# info_vae = False\n",
    "start_scale = 1.0\n",
    "end_scale = 1.0\n",
    "# start_scale = 0.01\n",
    "# end_scale = 0.01\n",
    "start_epochs = 0\n",
    "linear_epochs = 0\n",
    "\n",
    "in_channels = 1\n",
    "kernel_sizes = [5, 5]\n",
    "out_channels = [16, 32]\n",
    "rev_out_channels = [16, 2]"
   ]
  },
  {
   "cell_type": "markdown",
   "id": "1eae2c5f-ffaa-4e50-be21-44bca1e17efd",
   "metadata": {},
   "source": [
    "#### Getting the training data"
   ]
  },
  {
   "cell_type": "code",
   "execution_count": 3,
   "id": "f7586605-1ffd-4c67-b83a-321a72f5984f",
   "metadata": {},
   "outputs": [
    {
     "name": "stderr",
     "output_type": "stream",
     "text": [
      "/home/arnaud15/miniconda3/envs/ptorch/lib/python3.9/site-packages/torchvision/datasets/mnist.py:498: UserWarning: The given NumPy array is not writeable, and PyTorch does not support non-writeable tensors. This means you can write to the underlying (supposedly non-writeable) NumPy array using the tensor. You may want to copy the array to protect its data or make it writeable before converting it to a tensor. This type of warning will be suppressed for the rest of this program. (Triggered internally at  /opt/conda/conda-bld/pytorch_1631630778054/work/torch/csrc/utils/tensor_numpy.cpp:180.)\n",
      "  return torch.from_numpy(parsed.astype(m[2], copy=False)).view(*s)\n"
     ]
    }
   ],
   "source": [
    "dataset = torchvision.datasets.MNIST(\n",
    "    root=os.path.expanduser(\"~/vaes_ptorch/data\"),\n",
    "    train=True,\n",
    "    download=True,\n",
    "    transform=T.ToTensor(),\n",
    ")\n",
    "\n",
    "train_size = int(len(dataset) * 0.7)\n",
    "eval_size = len(dataset) - train_size\n",
    "train_data, eval_data = tdata.random_split(\n",
    "    dataset,\n",
    "    [train_size, eval_size],\n",
    "    generator=torch.Generator().manual_seed(15),\n",
    ")\n",
    "\n",
    "train_loader = tdata.DataLoader(\n",
    "    dataset=train_data, batch_size=batch_size, shuffle=True\n",
    ")\n",
    "eval_loader = tdata.DataLoader(\n",
    "    dataset=eval_data, batch_size=batch_size, shuffle=True\n",
    ")\n",
    "\n",
    "test_set = torchvision.datasets.MNIST(\n",
    "    root=os.path.expanduser(\"~/vaes_ptorch/data\"),\n",
    "    train=False,\n",
    "    download=True,\n",
    "    transform=T.ToTensor(),\n",
    ")\n",
    "test_loader = tdata.DataLoader(\n",
    "    dataset=test_set, batch_size=batch_size, shuffle=True\n",
    ")"
   ]
  },
  {
   "cell_type": "markdown",
   "id": "aaad7de1-1ac8-40f3-b976-4c7bd148f3a9",
   "metadata": {},
   "source": [
    "#### Setting up the VAE model"
   ]
  },
  {
   "cell_type": "code",
   "execution_count": 4,
   "id": "71b8b945-0b3a-4b46-a655-4ae6b49145c0",
   "metadata": {},
   "outputs": [],
   "source": [
    "encoder = GaussianModel(\n",
    "    model=CNN(\n",
    "        in_channels=1,\n",
    "        out_channels=out_channels,\n",
    "        kernel_sizes=kernel_sizes,\n",
    "        bn=True,\n",
    "        f_map_size=7,\n",
    "        out_dim=latent_dim * 2,\n",
    "    ),\n",
    "    out_dim=latent_dim,\n",
    "    min_var=1e-2,\n",
    ")\n",
    "decoder = GaussianModel(\n",
    "    model=DeCNN(\n",
    "        in_dim=latent_dim,\n",
    "        f_map_size=7,\n",
    "        channel_size=32,\n",
    "        out_channels=rev_out_channels,\n",
    "        kernel_sizes=kernel_sizes,\n",
    "        bn=True,\n",
    "    ),\n",
    "    out_dim=1,\n",
    "    min_var=0.0,\n",
    "    split_dim=1,\n",
    ")\n",
    "vae = GaussianVAE(encoder=encoder, decoder=decoder)"
   ]
  },
  {
   "cell_type": "markdown",
   "id": "a1388aff-b6db-4c01-93c2-2c83a1099144",
   "metadata": {},
   "source": [
    "#### Initializing the optimizer and training arguments"
   ]
  },
  {
   "cell_type": "code",
   "execution_count": 5,
   "id": "0eb889b6-0d60-4f70-a9c3-439a364bca87",
   "metadata": {},
   "outputs": [],
   "source": [
    "optimizer = torch.optim.Adam(params=vae.parameters(), lr=lr)\n",
    "\n",
    "train_args = TrainArgs(\n",
    "    info_vae=info_vae,\n",
    "    num_epochs=num_epochs,\n",
    "    div_annealing=DivAnnealing(\n",
    "        start_epochs=start_epochs,\n",
    "        linear_epochs=linear_epochs,\n",
    "        start_scale=start_scale,\n",
    "        end_scale=end_scale,\n",
    "    ),\n",
    "    print_every=print_every,\n",
    "    eval_every=eval_every,\n",
    "    smoothing=0.9,\n",
    ")"
   ]
  },
  {
   "cell_type": "markdown",
   "id": "a2255bd7-0aea-4803-94e2-7dda528a02bc",
   "metadata": {},
   "source": [
    "### Training"
   ]
  },
  {
   "cell_type": "code",
   "execution_count": 6,
   "id": "37d8dc2a-76f2-46d4-a980-4aa14791cbeb",
   "metadata": {},
   "outputs": [
    {
     "name": "stdout",
     "output_type": "stream",
     "text": [
      "Step: 0 | Loss: 0.17035 | Div scale: 1.000\n",
      "NLL: 0.09087 | MMD-div: 0.07948\n",
      "Step: 50 | Loss: 0.07224 | Div scale: 1.000\n",
      "NLL: 0.04276 | MMD-div: 0.02584\n",
      "Step: 100 | Loss: 0.06176 | Div scale: 1.000\n",
      "NLL: 0.03593 | MMD-div: 0.02090\n",
      "Step: 150 | Loss: 0.05581 | Div scale: 1.000\n",
      "NLL: 0.03135 | MMD-div: 0.00676\n",
      "Step: 200 | Loss: 0.04692 | Div scale: 1.000\n",
      "NLL: 0.03099 | MMD-div: 0.01511\n",
      "Step: 250 | Loss: 0.05986 | Div scale: 1.000\n",
      "NLL: 0.03141 | MMD-div: 0.03573\n",
      "Step: 300 | Loss: 0.05641 | Div scale: 1.000\n",
      "NLL: 0.03169 | MMD-div: 0.02122\n",
      "ELBO at the end of epoch #1 is 0.03284\n",
      "Step: 350 | Loss: 0.04692 | Div scale: 1.000\n",
      "NLL: 0.03293 | MMD-div: 0.01978\n",
      "Step: 400 | Loss: 0.05225 | Div scale: 1.000\n",
      "NLL: 0.03242 | MMD-div: 0.00888\n",
      "Step: 450 | Loss: 0.05286 | Div scale: 1.000\n",
      "NLL: 0.03172 | MMD-div: 0.02144\n",
      "Step: 500 | Loss: 0.04855 | Div scale: 1.000\n",
      "NLL: 0.03019 | MMD-div: 0.01250\n",
      "Step: 550 | Loss: 0.05342 | Div scale: 1.000\n",
      "NLL: 0.03088 | MMD-div: 0.02462\n",
      "Step: 600 | Loss: 0.04532 | Div scale: 1.000\n",
      "NLL: 0.03093 | MMD-div: 0.01456\n",
      "Step: 650 | Loss: 0.04846 | Div scale: 1.000\n",
      "NLL: 0.03079 | MMD-div: 0.01783\n",
      "ELBO at the end of epoch #2 is 0.03040\n",
      "Step: 700 | Loss: 0.04272 | Div scale: 1.000\n",
      "NLL: 0.03061 | MMD-div: 0.00490\n",
      "Step: 750 | Loss: 0.04670 | Div scale: 1.000\n",
      "NLL: 0.03076 | MMD-div: 0.03048\n",
      "Step: 800 | Loss: 0.04460 | Div scale: 1.000\n",
      "NLL: 0.03002 | MMD-div: 0.00740\n",
      "Step: 850 | Loss: 0.04921 | Div scale: 1.000\n",
      "NLL: 0.03131 | MMD-div: 0.04741\n",
      "Step: 900 | Loss: 0.04920 | Div scale: 1.000\n",
      "NLL: 0.03027 | MMD-div: 0.04578\n",
      "Step: 950 | Loss: 0.04607 | Div scale: 1.000\n",
      "NLL: 0.03203 | MMD-div: 0.02444\n",
      "ELBO at the end of epoch #3 is 0.03040\n",
      "Step: 1000 | Loss: 0.04772 | Div scale: 1.000\n",
      "NLL: 0.02999 | MMD-div: 0.00501\n",
      "Step: 1050 | Loss: 0.04431 | Div scale: 1.000\n",
      "NLL: 0.02991 | MMD-div: 0.01627\n",
      "Step: 1100 | Loss: 0.04458 | Div scale: 1.000\n",
      "NLL: 0.02978 | MMD-div: 0.00778\n",
      "Step: 1150 | Loss: 0.04311 | Div scale: 1.000\n",
      "NLL: 0.03150 | MMD-div: 0.01325\n",
      "Step: 1200 | Loss: 0.04159 | Div scale: 1.000\n",
      "NLL: 0.03118 | MMD-div: 0.01090\n",
      "Step: 1250 | Loss: 0.04156 | Div scale: 1.000\n",
      "NLL: 0.02874 | MMD-div: 0.00795\n",
      "Step: 1300 | Loss: 0.04501 | Div scale: 1.000\n",
      "NLL: 0.03069 | MMD-div: 0.01555\n",
      "ELBO at the end of epoch #4 is 0.03006\n",
      "Step: 1350 | Loss: 0.04477 | Div scale: 1.000\n",
      "NLL: 0.03071 | MMD-div: 0.01787\n",
      "Step: 1400 | Loss: 0.04399 | Div scale: 1.000\n",
      "NLL: 0.02980 | MMD-div: 0.01095\n",
      "Step: 1450 | Loss: 0.04261 | Div scale: 1.000\n",
      "NLL: 0.02947 | MMD-div: 0.01299\n",
      "Step: 1500 | Loss: 0.04473 | Div scale: 1.000\n",
      "NLL: 0.02922 | MMD-div: 0.00763\n",
      "Step: 1550 | Loss: 0.04255 | Div scale: 1.000\n",
      "NLL: 0.02992 | MMD-div: 0.01007\n",
      "Step: 1600 | Loss: 0.04763 | Div scale: 1.000\n",
      "NLL: 0.03086 | MMD-div: 0.01111\n",
      "ELBO at the end of epoch #5 is 0.03038\n",
      "Step: 1650 | Loss: 0.06208 | Div scale: 1.000\n",
      "NLL: 0.03045 | MMD-div: 0.01953\n",
      "Step: 1700 | Loss: 0.04069 | Div scale: 1.000\n",
      "NLL: 0.02928 | MMD-div: 0.00708\n",
      "Step: 1750 | Loss: 0.04321 | Div scale: 1.000\n",
      "NLL: 0.02977 | MMD-div: 0.00921\n",
      "Step: 1800 | Loss: 0.04461 | Div scale: 1.000\n",
      "NLL: 0.02884 | MMD-div: 0.00872\n",
      "Step: 1850 | Loss: 0.04894 | Div scale: 1.000\n",
      "NLL: 0.03106 | MMD-div: 0.01936\n",
      "Step: 1900 | Loss: 0.04158 | Div scale: 1.000\n",
      "NLL: 0.03132 | MMD-div: 0.01132\n",
      "Step: 1950 | Loss: 0.04284 | Div scale: 1.000\n",
      "NLL: 0.03083 | MMD-div: 0.01097\n",
      "ELBO at the end of epoch #6 is 0.02996\n",
      "Step: 2000 | Loss: 0.04579 | Div scale: 1.000\n",
      "NLL: 0.02993 | MMD-div: 0.00775\n",
      "Step: 2050 | Loss: 0.04160 | Div scale: 1.000\n",
      "NLL: 0.03132 | MMD-div: 0.02069\n",
      "Step: 2100 | Loss: 0.04355 | Div scale: 1.000\n",
      "NLL: 0.02961 | MMD-div: 0.01541\n",
      "Step: 2150 | Loss: 0.04235 | Div scale: 1.000\n",
      "NLL: 0.02966 | MMD-div: 0.01918\n",
      "Step: 2200 | Loss: 0.04070 | Div scale: 1.000\n",
      "NLL: 0.03041 | MMD-div: 0.01158\n",
      "Step: 2250 | Loss: 0.04133 | Div scale: 1.000\n",
      "NLL: 0.03049 | MMD-div: 0.00446\n",
      "Step: 2300 | Loss: 0.04443 | Div scale: 1.000\n",
      "NLL: 0.02823 | MMD-div: 0.01428\n",
      "ELBO at the end of epoch #7 is 0.03021\n",
      "Step: 2350 | Loss: 0.04247 | Div scale: 1.000\n",
      "NLL: 0.02981 | MMD-div: 0.01092\n",
      "Step: 2400 | Loss: 0.04406 | Div scale: 1.000\n",
      "NLL: 0.02998 | MMD-div: 0.01372\n",
      "Step: 2450 | Loss: 0.04165 | Div scale: 1.000\n",
      "NLL: 0.02859 | MMD-div: 0.01639\n",
      "Step: 2500 | Loss: 0.04226 | Div scale: 1.000\n",
      "NLL: 0.02986 | MMD-div: 0.01412\n",
      "Step: 2550 | Loss: 0.04134 | Div scale: 1.000\n",
      "NLL: 0.02922 | MMD-div: 0.00456\n",
      "Step: 2600 | Loss: 0.04193 | Div scale: 1.000\n",
      "NLL: 0.02982 | MMD-div: 0.00884\n",
      "ELBO at the end of epoch #8 is 0.02985\n",
      "Step: 2650 | Loss: 0.04669 | Div scale: 1.000\n",
      "NLL: 0.03034 | MMD-div: 0.01785\n",
      "Step: 2700 | Loss: 0.04157 | Div scale: 1.000\n",
      "NLL: 0.02961 | MMD-div: 0.00776\n",
      "Step: 2750 | Loss: 0.04241 | Div scale: 1.000\n",
      "NLL: 0.03017 | MMD-div: 0.01811\n",
      "Step: 2800 | Loss: 0.03995 | Div scale: 1.000\n",
      "NLL: 0.02862 | MMD-div: 0.00741\n",
      "Step: 2850 | Loss: 0.04357 | Div scale: 1.000\n",
      "NLL: 0.02996 | MMD-div: 0.00719\n",
      "Step: 2900 | Loss: 0.04121 | Div scale: 1.000\n",
      "NLL: 0.02961 | MMD-div: 0.00859\n",
      "Step: 2950 | Loss: 0.04090 | Div scale: 1.000\n",
      "NLL: 0.02891 | MMD-div: 0.00916\n",
      "ELBO at the end of epoch #9 is 0.02998\n",
      "Step: 3000 | Loss: 0.04132 | Div scale: 1.000\n",
      "NLL: 0.03047 | MMD-div: 0.00815\n",
      "Step: 3050 | Loss: 0.04189 | Div scale: 1.000\n",
      "NLL: 0.02982 | MMD-div: 0.01198\n",
      "Step: 3100 | Loss: 0.03966 | Div scale: 1.000\n",
      "NLL: 0.03064 | MMD-div: 0.00562\n",
      "Step: 3150 | Loss: 0.04371 | Div scale: 1.000\n",
      "NLL: 0.03124 | MMD-div: 0.01639\n",
      "Step: 3200 | Loss: 0.04270 | Div scale: 1.000\n",
      "NLL: 0.03028 | MMD-div: 0.01626\n",
      "Step: 3250 | Loss: 0.03938 | Div scale: 1.000\n",
      "NLL: 0.02927 | MMD-div: 0.00691\n",
      "ELBO at the end of epoch #10 is 0.02989\n"
     ]
    }
   ],
   "source": [
    "train(\n",
    "    train_data=train_loader,\n",
    "    vae=vae,\n",
    "    optimizer=optimizer,\n",
    "    args=train_args,\n",
    "    eval_data=eval_loader,\n",
    ")"
   ]
  },
  {
   "cell_type": "markdown",
   "id": "1d9727ff-10dc-4379-b276-3b7f5e19dc64",
   "metadata": {},
   "source": [
    "### Testing"
   ]
  },
  {
   "cell_type": "code",
   "execution_count": 7,
   "id": "775d276e-7799-479e-8d3c-112dc66d636e",
   "metadata": {},
   "outputs": [
    {
     "data": {
      "text/plain": [
       "0.029786685080845143"
      ]
     },
     "execution_count": 7,
     "metadata": {},
     "output_type": "execute_result"
    }
   ],
   "source": [
    "evaluate(test_loader, vae)"
   ]
  },
  {
   "cell_type": "code",
   "execution_count": 8,
   "id": "4584d0f2-c413-4dda-9f86-d8f94ef45801",
   "metadata": {},
   "outputs": [
    {
     "data": {
      "image/png": "[encoded data removed]",
      "text/plain": [
       "<Figure size 432x288 with 1 Axes>"
      ]
     },
     "metadata": {},
     "output_type": "display_data"
    }
   ],
   "source": [
    "input_images = next(iter(test_loader))[0][:16]\n",
    "show(input_images)"
   ]
  },
  {
   "cell_type": "code",
   "execution_count": 9,
   "id": "5639453b-d606-4e52-b7df-bc23e82b3848",
   "metadata": {},
   "outputs": [
    {
     "data": {
      "image/png": "[encoded data removed]",
      "text/plain": [
       "<Figure size 432x288 with 1 Axes>"
      ]
     },
     "metadata": {},
     "output_type": "display_data"
    }
   ],
   "source": [
    "reconstructed_images = vae(input_images)\n",
    "show(reconstructed_images.mu_x)"
   ]
  }
 ],
 "metadata": {
  "kernelspec": {
   "display_name": "Python 3 (ipykernel)",
   "language": "python",
   "name": "python3"
  },
  "language_info": {
   "codemirror_mode": {
    "name": "ipython",
    "version": 3
   },
   "file_extension": ".py",
   "mimetype": "text/x-python",
   "name": "python",
   "nbconvert_exporter": "python",
   "pygments_lexer": "ipython3",
   "version": "3.9.7"
  }
 },
 "nbformat": 4,
 "nbformat_minor": 5
}

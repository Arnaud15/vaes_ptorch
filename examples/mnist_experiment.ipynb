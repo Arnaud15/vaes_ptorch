{
 "cells": [
  {
   "cell_type": "markdown",
   "id": "9b40a331-59dc-40fe-99a1-65a5fb5c3f99",
   "metadata": {},
   "source": [
    "## VAEs on MNIST - Experiments"
   ]
  },
  {
   "cell_type": "markdown",
   "id": "25463372-50d4-4141-bee5-9d0b58fae335",
   "metadata": {
    "tags": []
   },
   "source": [
    "#### Imports"
   ]
  },
  {
   "cell_type": "code",
   "execution_count": 30,
   "id": "7321b105-99ae-49b5-9b2e-c10ea7056d0b",
   "metadata": {},
   "outputs": [],
   "source": [
    "import matplotlib.pyplot as plt\n",
    "import numpy as np\n",
    "import pandas as pd\n",
    "\n",
    "import vaes_ptorch.experiments as exp"
   ]
  },
  {
   "cell_type": "code",
   "execution_count": 31,
   "id": "86a4d177-c1a1-469f-916b-db9c66426e86",
   "metadata": {},
   "outputs": [
    {
     "name": "stdout",
     "output_type": "stream",
     "text": [
      "48 experiment files to collate\n"
     ]
    }
   ],
   "source": [
    "full_data = exp.load_experiments_data(exp.EXP_PATH)"
   ]
  },
  {
   "cell_type": "code",
   "execution_count": 32,
   "id": "d2adfc59-9761-412c-a9f8-f224df34ce57",
   "metadata": {},
   "outputs": [],
   "source": [
    "df = pd.DataFrame(full_data)"
   ]
  },
  {
   "cell_type": "code",
   "execution_count": 33,
   "id": "0ccc001c-148d-4121-b5c4-92f0b08e5916",
   "metadata": {},
   "outputs": [
    {
     "data": {
      "text/html": [
       "<div>\n",
       "<style scoped>\n",
       "    .dataframe tbody tr th:only-of-type {\n",
       "        vertical-align: middle;\n",
       "    }\n",
       "\n",
       "    .dataframe tbody tr th {\n",
       "        vertical-align: top;\n",
       "    }\n",
       "\n",
       "    .dataframe thead th {\n",
       "        text-align: right;\n",
       "    }\n",
       "</style>\n",
       "<table border=\"1\" class=\"dataframe\">\n",
       "  <thead>\n",
       "    <tr style=\"text-align: right;\">\n",
       "      <th></th>\n",
       "      <th>info_vae</th>\n",
       "      <th>div_scale</th>\n",
       "      <th>latent_dim</th>\n",
       "      <th>lr</th>\n",
       "      <th>batch_size</th>\n",
       "      <th>num_epochs</th>\n",
       "      <th>eval_share</th>\n",
       "      <th>eval_error</th>\n",
       "      <th>test_error</th>\n",
       "    </tr>\n",
       "  </thead>\n",
       "  <tbody>\n",
       "    <tr>\n",
       "      <th>0</th>\n",
       "      <td>1</td>\n",
       "      <td>1000.00</td>\n",
       "      <td>10</td>\n",
       "      <td>0.001</td>\n",
       "      <td>128</td>\n",
       "      <td>15</td>\n",
       "      <td>0.3</td>\n",
       "      <td>2672.846261</td>\n",
       "      <td>771.028529</td>\n",
       "    </tr>\n",
       "    <tr>\n",
       "      <th>1</th>\n",
       "      <td>0</td>\n",
       "      <td>10.00</td>\n",
       "      <td>10</td>\n",
       "      <td>0.001</td>\n",
       "      <td>128</td>\n",
       "      <td>15</td>\n",
       "      <td>0.3</td>\n",
       "      <td>2441.911650</td>\n",
       "      <td>198.964244</td>\n",
       "    </tr>\n",
       "    <tr>\n",
       "      <th>2</th>\n",
       "      <td>0</td>\n",
       "      <td>100.00</td>\n",
       "      <td>10</td>\n",
       "      <td>0.001</td>\n",
       "      <td>128</td>\n",
       "      <td>15</td>\n",
       "      <td>0.3</td>\n",
       "      <td>2080.690701</td>\n",
       "      <td>206.196567</td>\n",
       "    </tr>\n",
       "    <tr>\n",
       "      <th>3</th>\n",
       "      <td>1</td>\n",
       "      <td>0.01</td>\n",
       "      <td>10</td>\n",
       "      <td>0.001</td>\n",
       "      <td>128</td>\n",
       "      <td>15</td>\n",
       "      <td>0.3</td>\n",
       "      <td>5306.091172</td>\n",
       "      <td>4172.115140</td>\n",
       "    </tr>\n",
       "    <tr>\n",
       "      <th>4</th>\n",
       "      <td>1</td>\n",
       "      <td>100.00</td>\n",
       "      <td>10</td>\n",
       "      <td>0.001</td>\n",
       "      <td>128</td>\n",
       "      <td>15</td>\n",
       "      <td>0.3</td>\n",
       "      <td>2902.709581</td>\n",
       "      <td>785.068846</td>\n",
       "    </tr>\n",
       "  </tbody>\n",
       "</table>\n",
       "</div>"
      ],
      "text/plain": [
       "   info_vae  div_scale  latent_dim     lr  batch_size  num_epochs  eval_share  \\\n",
       "0         1    1000.00          10  0.001         128          15         0.3   \n",
       "1         0      10.00          10  0.001         128          15         0.3   \n",
       "2         0     100.00          10  0.001         128          15         0.3   \n",
       "3         1       0.01          10  0.001         128          15         0.3   \n",
       "4         1     100.00          10  0.001         128          15         0.3   \n",
       "\n",
       "    eval_error   test_error  \n",
       "0  2672.846261   771.028529  \n",
       "1  2441.911650   198.964244  \n",
       "2  2080.690701   206.196567  \n",
       "3  5306.091172  4172.115140  \n",
       "4  2902.709581   785.068846  "
      ]
     },
     "execution_count": 33,
     "metadata": {},
     "output_type": "execute_result"
    }
   ],
   "source": [
    "df.head()"
   ]
  },
  {
   "cell_type": "code",
   "execution_count": 34,
   "id": "641d940f-2476-4930-b762-4bc5c889faa5",
   "metadata": {},
   "outputs": [
    {
     "data": {
      "text/plain": [
       "info_vae      0\n",
       "div_scale     0\n",
       "latent_dim    0\n",
       "lr            0\n",
       "batch_size    0\n",
       "num_epochs    0\n",
       "eval_share    0\n",
       "eval_error    0\n",
       "test_error    0\n",
       "dtype: int64"
      ]
     },
     "execution_count": 34,
     "metadata": {},
     "output_type": "execute_result"
    }
   ],
   "source": [
    "df.isna().sum(0)"
   ]
  },
  {
   "cell_type": "code",
   "execution_count": 35,
   "id": "c0004354-7b6e-42fb-9b96-e71d55e8ae29",
   "metadata": {},
   "outputs": [],
   "source": [
    "common_divs = [10.0, 100.0, 1000.0, 10000.0]"
   ]
  },
  {
   "cell_type": "code",
   "execution_count": 36,
   "id": "3502163d-6bbd-4f50-859a-30384f94affa",
   "metadata": {},
   "outputs": [],
   "source": [
    "df = df.fillna(1e12)"
   ]
  },
  {
   "cell_type": "markdown",
   "id": "6b0602e7-3f4f-4df6-88a4-2e917285180d",
   "metadata": {},
   "source": [
    "### Divergence scale plot"
   ]
  },
  {
   "cell_type": "code",
   "execution_count": 37,
   "id": "5eb3762a-ad66-434a-a428-b4d33dcff838",
   "metadata": {},
   "outputs": [
    {
     "name": "stdout",
     "output_type": "stream",
     "text": [
      "Vanilla VAE: selected learning rate is 0.001 for divergence scale 0.001\n",
      "Info VAE: selected learning rate is 0.001 for divergence scale 0.001\n",
      "Vanilla VAE: selected learning rate is 0.001 for divergence scale 0.01\n",
      "Info VAE: selected learning rate is 0.001 for divergence scale 0.01\n",
      "Vanilla VAE: selected learning rate is 0.001 for divergence scale 0.1\n",
      "Info VAE: selected learning rate is 0.001 for divergence scale 0.1\n",
      "Vanilla VAE: selected learning rate is 0.001 for divergence scale 1.0\n",
      "Info VAE: selected learning rate is 0.001 for divergence scale 1.0\n",
      "Vanilla VAE: selected learning rate is 0.001 for divergence scale 10.0\n",
      "Info VAE: selected learning rate is 0.001 for divergence scale 10.0\n",
      "Vanilla VAE: selected learning rate is 0.001 for divergence scale 100.0\n",
      "Info VAE: selected learning rate is 0.001 for divergence scale 100.0\n",
      "Vanilla VAE: selected learning rate is 0.001 for divergence scale 1000.0\n",
      "Info VAE: selected learning rate is 0.001 for divergence scale 1000.0\n",
      "Vanilla VAE: selected learning rate is 0.001 for divergence scale 10000.0\n",
      "Info VAE: selected learning rate is 0.001 for divergence scale 10000.0\n"
     ]
    }
   ],
   "source": [
    "# all with latent dim of 10\n",
    "plot_df = df.loc[df.latent_dim == 10, :]\n",
    "divs = []\n",
    "info_vae_errors = []\n",
    "plain_errors = []\n",
    "common_divs = df.loc[df.info_vae == 1, :].div_scale.unique()\n",
    "for div_scale, grouped_df in plot_df.groupby('div_scale'):\n",
    "    if div_scale not in common_divs:\n",
    "        continue\n",
    "    divs.append(div_scale)\n",
    "    data = grouped_df.loc[grouped_df.info_vae == 0, ['lr', 'eval_error', 'test_error']].groupby('lr').agg(['mean'])\n",
    "    selected_lr = data.loc[:, ('eval_error', 'mean')].idxmin()\n",
    "    print(f\"Vanilla VAE: selected learning rate is {selected_lr} for divergence scale {div_scale}\")\n",
    "    plain_errors.append(data.loc[selected_lr].test_error)\n",
    "    \n",
    "    data = grouped_df.loc[grouped_df.info_vae == 1, ['lr', 'eval_error', 'test_error']].groupby('lr').agg(['mean'])\n",
    "    selected_lr = data.loc[:, ('eval_error', 'mean')].idxmin()\n",
    "    print(f\"Info VAE: selected learning rate is {selected_lr} for divergence scale {div_scale}\")\n",
    "    info_vae_errors.append(data.loc[selected_lr].test_error)"
   ]
  },
  {
   "cell_type": "code",
   "execution_count": 38,
   "id": "ce3a6672-a522-4805-bd82-9514c596764d",
   "metadata": {},
   "outputs": [
    {
     "data": {
      "text/plain": [
       "[0.001, 0.01, 0.1, 1.0, 10.0, 100.0, 1000.0, 10000.0]"
      ]
     },
     "execution_count": 38,
     "metadata": {},
     "output_type": "execute_result"
    }
   ],
   "source": [
    "divs"
   ]
  },
  {
   "cell_type": "code",
   "execution_count": 41,
   "id": "0c28aaaa-91b1-4854-8623-8b695c9e4733",
   "metadata": {},
   "outputs": [
    {
     "data": {
      "image/png": "[encoded data removed]",
      "text/plain": [
       "<Figure size 432x288 with 1 Axes>"
      ]
     },
     "metadata": {
      "needs_background": "light"
     },
     "output_type": "display_data"
    }
   ],
   "source": [
    "plt.figure()\n",
    "plt.plot(divs, plain_errors, label=\"Plain VAE\")\n",
    "# plt.plot(divs, info_vae_errors, label=\"Info VAE\")\n",
    "plt.grid()\n",
    "plt.xscale(\"log\")\n",
    "# plt.yscale(\"log\")\n",
    "plt.ylabel(\"Test set ELBO\")\n",
    "plt.xlabel(\"Scale of the divergence parameter\")\n",
    "plt.legend()\n",
    "plt.savefig(\"nll_comparison_mnist.png\")\n",
    "plt.show()\n",
    "plt.close()"
   ]
  },
  {
   "cell_type": "code",
   "execution_count": null,
   "id": "6e242132-6441-4715-b455-d88fe6cea14d",
   "metadata": {},
   "outputs": [],
   "source": []
  }
 ],
 "metadata": {
  "kernelspec": {
   "display_name": "Python 3 (ipykernel)",
   "language": "python",
   "name": "python3"
  },
  "language_info": {
   "codemirror_mode": {
    "name": "ipython",
    "version": 3
   },
   "file_extension": ".py",
   "mimetype": "text/x-python",
   "name": "python",
   "nbconvert_exporter": "python",
   "pygments_lexer": "ipython3",
   "version": "3.9.7"
  }
 },
 "nbformat": 4,
 "nbformat_minor": 5
}

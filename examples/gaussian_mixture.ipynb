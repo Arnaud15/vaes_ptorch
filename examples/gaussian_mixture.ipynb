{
 "cells": [
  {
   "cell_type": "code",
   "execution_count": 1,
   "id": "19ae9fce-0385-457a-a147-9cb833a77be5",
   "metadata": {},
   "outputs": [],
   "source": [
    "import os\n",
    "\n",
    "import matplotlib.pyplot as plt\n",
    "import numpy as np\n",
    "\n",
    "from em import em_gaussian_mixture\n",
    "from old_faithful import get_old_faithful_data"
   ]
  },
  {
   "cell_type": "code",
   "execution_count": 2,
   "id": "1ae6f3a8-84e8-4b07-80ac-892ed678b719",
   "metadata": {},
   "outputs": [],
   "source": [
    "save_path = os.path.expanduser(\"~/vaes_ptorch/data\")\n",
    "er, waits = get_old_faithful_data(save=True, save_dir=save_path)"
   ]
  },
  {
   "cell_type": "code",
   "execution_count": 3,
   "id": "ed15937c-e153-4b7d-803d-f03dc42e6a25",
   "metadata": {},
   "outputs": [
    {
     "data": {
      "image/png": "[encoded data removed]",
      "text/plain": [
       "<Figure size 432x288 with 1 Axes>"
      ]
     },
     "metadata": {
      "needs_background": "light"
     },
     "output_type": "display_data"
    }
   ],
   "source": [
    "plt.hist2d(er, waits, alpha=1.0)\n",
    "plt.xlabel(\"Eruption durations (mins)\")\n",
    "plt.ylabel(\"Wait time between eruptions (mins)\");"
   ]
  },
  {
   "cell_type": "code",
   "execution_count": 4,
   "id": "cf79a16c-d52f-468e-bfa9-0433b5b54f52",
   "metadata": {},
   "outputs": [
    {
     "data": {
      "text/plain": [
       "Theta(mu=[array([ 2.03638845, 54.47851638]), array([ 4.28966197, 79.96811517])], sigma=[array([[ 0.06916767,  0.43516762],\n",
       "       [ 0.43516762, 33.69728207]]), array([[ 0.16996844,  0.94060932],\n",
       "       [ 0.94060932, 36.04621132]])], gamma=array([0.35587286, 0.64412714]))"
      ]
     },
     "execution_count": 4,
     "metadata": {},
     "output_type": "execute_result"
    }
   ],
   "source": [
    "data = np.concatenate([er.reshape(-1, 1), waits.reshape(-1, 1)], 1)\n",
    "theta = em_gaussian_mixture(data, 2, 1000)\n",
    "theta"
   ]
  },
  {
   "cell_type": "code",
   "execution_count": 5,
   "id": "deba6e33-4d52-4abc-b198-0e38908c93fb",
   "metadata": {},
   "outputs": [],
   "source": [
    "import torch\n",
    "import torch.nn as nn\n",
    "import torch.utils.data as tdata\n",
    "from vaes_ptorch import VAE, GaussianMLP, TrainArgs, train\n",
    "from vaes_ptorch.args import KLAnnealing"
   ]
  },
  {
   "cell_type": "code",
   "execution_count": 6,
   "id": "8b86796b-d3cd-49ac-83ee-a7a3de136e01",
   "metadata": {},
   "outputs": [],
   "source": [
    "def scale_data(data):  # of shape n, p\n",
    "    mean_, std_ = data.mean(0), data.std(0)\n",
    "    return (data - mean_) / std_, (mean_, std_)\n",
    "\n",
    "\n",
    "def rescale_data(data, mean_std):\n",
    "    mean_, std_ = mean_std\n",
    "    return mean_ + std_ * data"
   ]
  },
  {
   "cell_type": "code",
   "execution_count": 7,
   "id": "c503e3b9-d457-4731-b7ca-d6619b8767cf",
   "metadata": {},
   "outputs": [],
   "source": [
    "scaled, mean_std = scale_data(data)\n",
    "dataset = tdata.TensorDataset(torch.from_numpy(scaled).float())\n",
    "dataloader = tdata.DataLoader(dataset=dataset, batch_size=128, shuffle=True)"
   ]
  },
  {
   "cell_type": "code",
   "execution_count": 38,
   "id": "fbe6f34f-d5e7-47b2-90e8-c1bdc4bc78a1",
   "metadata": {},
   "outputs": [],
   "source": [
    "latent_dim = 2\n",
    "data_dim = 2\n",
    "h_size = 128\n",
    "h_layers = 10\n",
    "lr = 1e-3\n",
    "num_epochs = 500\n",
    "print_every = 100\n",
    "reconstruction_only = 100\n",
    "kl_warmup = 2000"
   ]
  },
  {
   "cell_type": "code",
   "execution_count": 39,
   "id": "0455a0be-0b7d-4091-947d-e3075c5622da",
   "metadata": {},
   "outputs": [],
   "source": [
    "encoder = GaussianMLP(\n",
    "    in_dim=data_dim, h_dims=[h_size] * h_layers, out_dim=latent_dim\n",
    ")\n",
    "decoder = GaussianMLP(\n",
    "    in_dim=latent_dim, h_dims=[h_size] * h_layers, out_dim=data_dim\n",
    ")\n",
    "vae = VAE(encoder=encoder, decoder=decoder)\n",
    "optimizer = torch.optim.Adam(params=vae.parameters(), lr=lr)\n",
    "train_args = TrainArgs(\n",
    "    num_epochs=num_epochs,\n",
    "    print_every=print_every,\n",
    "    smoothing=0.9,\n",
    "    kl_annealing=KLAnnealing(num_epochs, reconstruction_only, kl_warmup),\n",
    ")"
   ]
  },
  {
   "cell_type": "code",
   "execution_count": 40,
   "id": "e68119ea-f82e-49ea-b514-7c4bd95fae63",
   "metadata": {},
   "outputs": [
    {
     "name": "stdout",
     "output_type": "stream",
     "text": [
      "Step: 100 | ELBO: 0.03120 | KL scale: 0.000\n",
      "NLL: 0.02839 | KL: 28152.00391\n",
      "Step: 200 | ELBO: 0.02628 | KL scale: 0.000\n",
      "NLL: 0.02206 | KL: 25772.08203\n",
      "Step: 300 | ELBO: 0.02671 | KL scale: 0.000\n",
      "NLL: 0.03806 | KL: 2829.11523\n",
      "Step: 400 | ELBO: 0.26158 | KL scale: 0.017\n",
      "NLL: 0.07045 | KL: 5.92080\n",
      "Step: 500 | ELBO: 0.18044 | KL scale: 0.034\n",
      "NLL: 0.07621 | KL: 3.81139\n",
      "Step: 600 | ELBO: 0.23894 | KL scale: 0.050\n",
      "NLL: 0.06240 | KL: 2.65681\n",
      "Step: 700 | ELBO: 0.31596 | KL scale: 0.067\n",
      "NLL: 0.09518 | KL: 4.20499\n",
      "Step: 800 | ELBO: 0.34403 | KL scale: 0.084\n",
      "NLL: 0.10393 | KL: 3.50503\n",
      "Step: 900 | ELBO: 0.38304 | KL scale: 0.100\n",
      "NLL: 0.07279 | KL: 2.50947\n",
      "Step: 1000 | ELBO: 0.46123 | KL scale: 0.117\n",
      "NLL: 0.10891 | KL: 2.99879\n",
      "Step: 1100 | ELBO: 0.49207 | KL scale: 0.134\n",
      "NLL: 0.08829 | KL: 3.28119\n",
      "Step: 1200 | ELBO: 0.54391 | KL scale: 0.150\n",
      "NLL: 0.35807 | KL: 2.13162\n",
      "Step: 1300 | ELBO: 0.58850 | KL scale: 0.167\n",
      "NLL: 0.08513 | KL: 2.95850\n",
      "Step: 1400 | ELBO: 0.62909 | KL scale: 0.183\n",
      "NLL: 0.13940 | KL: 2.92116\n",
      "Step: 1500 | ELBO: 0.69871 | KL scale: 0.200\n",
      "NLL: 0.15000 | KL: 2.39714\n"
     ]
    }
   ],
   "source": [
    "vae = train(data=dataloader, vae=vae, optimizer=optimizer, args=train_args)"
   ]
  },
  {
   "cell_type": "code",
   "execution_count": 42,
   "id": "d6c7603d-5274-4ccf-a852-0cb66d458056",
   "metadata": {},
   "outputs": [
    {
     "data": {
      "image/png": "[encoded data removed]",
      "text/plain": [
       "<Figure size 432x288 with 1 Axes>"
      ]
     },
     "metadata": {
      "needs_background": "light"
     },
     "output_type": "display_data"
    }
   ],
   "source": [
    "test = torch.from_numpy(scaled).float()\n",
    "\n",
    "# TODO - better this\n",
    "vae.eval()\n",
    "with torch.no_grad():\n",
    "    out = vae(test)\n",
    "    z_samples = out.mu_z + torch.randn_like(out.mu_z) * torch.sqrt(out.sig_z)\n",
    "    mu_x, sig_x = vae.decoder(z_samples)\n",
    "    x_samples = mu_x + torch.randn_like(mu_x) * torch.sqrt(sig_x)\n",
    "    z_2d = z_samples.detach().numpy()\n",
    "    x_2d = rescale_data(x_samples.detach().numpy(), mean_std)\n",
    "    plt.hist2d(z_2d[:, 0], z_2d[:, 1])\n",
    "    plt.hist2d(x_2d[:, 0], x_2d[:, 1])"
   ]
  },
  {
   "cell_type": "code",
   "execution_count": null,
   "id": "b5bd37f5-736c-49bf-97d1-ba2d5d8b3329",
   "metadata": {},
   "outputs": [],
   "source": [
    "# mu = torch.tensor([[1.0, -1.0,]])\n",
    "# sig = torch.tensor([[2.0, 2.0]])\n",
    "# t1 = np.linspace(0.1, 1.0)\n",
    "# X, Y = np.meshgrid(t1, t1)\n",
    "# Z = np.zeros_like(X)\n",
    "# for i in range(t1.shape[0]):\n",
    "#     for j in range(t1.shape[0]):\n",
    "#         Z[i, j] += gaussian_kl(\n",
    "#             left_mu=X[i, j] * mu,\n",
    "#             left_sig=Y[i, j] * sig,\n",
    "#             right_mu=torch.zeros_like(mu),\n",
    "#             right_sig=torch.ones_like(sig),\n",
    "#         )\n",
    "#         Z[i, j] += nn.GaussianNLLLoss()(mu, X[i, j] * mu, Y[i, j] * sig)\n",
    "\n",
    "# plt.contour(X, Y, Z, 20, cmap=\"RdGy\")\n",
    "# plt.colorbar()"
   ]
  }
 ],
 "metadata": {
  "kernelspec": {
   "display_name": "Python 3 (ipykernel)",
   "language": "python",
   "name": "python3"
  },
  "language_info": {
   "codemirror_mode": {
    "name": "ipython",
    "version": 3
   },
   "file_extension": ".py",
   "mimetype": "text/x-python",
   "name": "python",
   "nbconvert_exporter": "python",
   "pygments_lexer": "ipython3",
   "version": "3.9.7"
  }
 },
 "nbformat": 4,
 "nbformat_minor": 5
}

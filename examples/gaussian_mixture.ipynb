{
 "cells": [
  {
   "cell_type": "code",
   "execution_count": 1,
   "id": "19ae9fce-0385-457a-a147-9cb833a77be5",
   "metadata": {},
   "outputs": [],
   "source": [
    "import os\n",
    "\n",
    "import matplotlib.pyplot as plt\n",
    "import numpy as np\n",
    "\n",
    "from em import em_gaussian_mixture\n",
    "from old_faithful import get_old_faithful_data"
   ]
  },
  {
   "cell_type": "code",
   "execution_count": 2,
   "id": "1ae6f3a8-84e8-4b07-80ac-892ed678b719",
   "metadata": {},
   "outputs": [],
   "source": [
    "save_path = os.path.expanduser(\"~/vaes_ptorch/data\")\n",
    "er, waits = get_old_faithful_data(save=True, save_dir=save_path)"
   ]
  },
  {
   "cell_type": "code",
   "execution_count": 3,
   "id": "ed15937c-e153-4b7d-803d-f03dc42e6a25",
   "metadata": {},
   "outputs": [
    {
     "data": {
      "image/png": "[encoded data removed]",
      "text/plain": [
       "<Figure size 432x288 with 1 Axes>"
      ]
     },
     "metadata": {
      "needs_background": "light"
     },
     "output_type": "display_data"
    }
   ],
   "source": [
    "plt.hist2d(er, waits, alpha=1.0)\n",
    "plt.xlabel(\"Eruption durations (mins)\")\n",
    "plt.ylabel(\"Wait time between eruptions (mins)\");"
   ]
  },
  {
   "cell_type": "code",
   "execution_count": 4,
   "id": "cf79a16c-d52f-468e-bfa9-0433b5b54f52",
   "metadata": {},
   "outputs": [
    {
     "data": {
      "text/plain": [
       "Theta(mu=[array([ 2.03638845, 54.47851638]), array([ 4.28966197, 79.96811517])], sigma=[array([[ 0.06916767,  0.43516762],\n",
       "       [ 0.43516762, 33.69728207]]), array([[ 0.16996844,  0.94060932],\n",
       "       [ 0.94060932, 36.04621132]])], gamma=array([0.35587286, 0.64412714]))"
      ]
     },
     "execution_count": 4,
     "metadata": {},
     "output_type": "execute_result"
    }
   ],
   "source": [
    "data = np.concatenate([er.reshape(-1, 1), waits.reshape(-1, 1)], 1)\n",
    "theta = em_gaussian_mixture(data, 2, 1000)\n",
    "theta"
   ]
  },
  {
   "cell_type": "code",
   "execution_count": 5,
   "id": "deba6e33-4d52-4abc-b198-0e38908c93fb",
   "metadata": {},
   "outputs": [],
   "source": [
    "import torch\n",
    "import torch.nn as nn\n",
    "import torch.utils.data as tdata\n",
    "from vaes_ptorch import VAE, GaussianMLP, TrainArgs, train\n",
    "from vaes_ptorch.args import DivAnnealing"
   ]
  },
  {
   "cell_type": "code",
   "execution_count": 6,
   "id": "8b86796b-d3cd-49ac-83ee-a7a3de136e01",
   "metadata": {},
   "outputs": [],
   "source": [
    "def scale_data(data):  # of shape n, p\n",
    "    mean_, std_ = data.mean(0), data.std(0)\n",
    "    return (data - mean_) / std_, (mean_, std_)\n",
    "\n",
    "\n",
    "def rescale_data(data, mean_std):\n",
    "    mean_, std_ = mean_std\n",
    "    return mean_ + std_ * data"
   ]
  },
  {
   "cell_type": "code",
   "execution_count": 49,
   "id": "4e7b8f66-a789-4cb6-8171-69de3cda4d88",
   "metadata": {},
   "outputs": [
    {
     "data": {
      "text/plain": [
       "array([[ 10.],\n",
       "       [-10.]])"
      ]
     },
     "execution_count": 49,
     "metadata": {},
     "output_type": "execute_result"
    }
   ],
   "source": [
    "import numpy as np\n",
    "\n",
    "data = np.asarray([10.0, -10.0]).reshape(-1, 1)\n",
    "data"
   ]
  },
  {
   "cell_type": "code",
   "execution_count": 69,
   "id": "fbe6f34f-d5e7-47b2-90e8-c1bdc4bc78a1",
   "metadata": {},
   "outputs": [],
   "source": [
    "data_dim = 1\n",
    "scale_data = False\n",
    "\n",
    "latent_dim = 1\n",
    "h_size = 16\n",
    "h_layers = 5\n",
    "\n",
    "lr = 1e-3\n",
    "batch_size = 128\n",
    "num_epochs = 1000\n",
    "\n",
    "print_every = 100\n",
    "\n",
    "info_vae = True\n",
    "\n",
    "start_scale = 100.0\n",
    "end_scale = 100.00\n",
    "start_epochs = 100\n",
    "linear_epochs = 100"
   ]
  },
  {
   "cell_type": "code",
   "execution_count": 70,
   "id": "c503e3b9-d457-4731-b7ca-d6619b8767cf",
   "metadata": {},
   "outputs": [],
   "source": [
    "if scale_data:\n",
    "    scaled, mean_std = scale_data(data)\n",
    "else:\n",
    "    scaled, mean_std = data, (0.0, 1.0)\n",
    "dataset = tdata.TensorDataset(torch.from_numpy(scaled).float())\n",
    "dataloader = tdata.DataLoader(\n",
    "    dataset=dataset, batch_size=batch_size, shuffle=True\n",
    ")"
   ]
  },
  {
   "cell_type": "code",
   "execution_count": 71,
   "id": "0455a0be-0b7d-4091-947d-e3075c5622da",
   "metadata": {},
   "outputs": [],
   "source": [
    "encoder = GaussianMLP(\n",
    "    in_dim=data_dim, h_dims=[h_size] * h_layers, out_dim=latent_dim\n",
    ")\n",
    "decoder = GaussianMLP(\n",
    "    in_dim=latent_dim, h_dims=[h_size] * h_layers, out_dim=data_dim\n",
    ")\n",
    "vae = VAE(encoder=encoder, decoder=decoder)\n",
    "optimizer = torch.optim.Adam(params=vae.parameters(), lr=lr)\n",
    "train_args = TrainArgs(\n",
    "    info_vae=info_vae,\n",
    "    num_epochs=num_epochs,\n",
    "    div_annealing=DivAnnealing(\n",
    "        start_epochs=start_epochs,\n",
    "        linear_epochs=linear_epochs,\n",
    "        start_scale=start_scale,\n",
    "        end_scale=end_scale,\n",
    "    ),\n",
    "    print_every=print_every,\n",
    "    smoothing=0.9,\n",
    ")"
   ]
  },
  {
   "cell_type": "code",
   "execution_count": 72,
   "id": "e68119ea-f82e-49ea-b514-7c4bd95fae63",
   "metadata": {},
   "outputs": [
    {
     "name": "stdout",
     "output_type": "stream",
     "text": [
      "Step: 0 | Loss: 103.32794 | Div scale: 100.000\n",
      "NLL: 50.00454 | MMD-div: 0.53323\n",
      "Step: 100 | Loss: 76.75411 | Div scale: 100.000\n",
      "NLL: 9.85164 | MMD-div: 0.00880\n",
      "Step: 200 | Loss: 39.29530 | Div scale: 100.000\n",
      "NLL: 2.80461 | MMD-div: 0.35983\n",
      "Step: 300 | Loss: 38.46264 | Div scale: 100.000\n",
      "NLL: 2.79996 | MMD-div: 0.18820\n",
      "Step: 400 | Loss: 42.43368 | Div scale: 100.000\n",
      "NLL: 2.79969 | MMD-div: 0.35825\n",
      "Step: 500 | Loss: 36.03641 | Div scale: 100.000\n",
      "NLL: 2.79908 | MMD-div: 0.52883\n",
      "Step: 600 | Loss: 28.13475 | Div scale: 100.000\n",
      "NLL: 2.79923 | MMD-div: 0.28767\n",
      "Step: 700 | Loss: 46.56131 | Div scale: 100.000\n",
      "NLL: 2.79933 | MMD-div: 0.66204\n",
      "Step: 800 | Loss: 42.51174 | Div scale: 100.000\n",
      "NLL: 2.79826 | MMD-div: 0.35739\n",
      "Step: 900 | Loss: 31.93853 | Div scale: 100.000\n",
      "NLL: 2.79853 | MMD-div: 0.35613\n"
     ]
    }
   ],
   "source": [
    "train(data=dataloader, vae=vae, optimizer=optimizer, args=train_args)"
   ]
  },
  {
   "cell_type": "code",
   "execution_count": 73,
   "id": "d4d14d01-e2a6-4802-8732-4d2253c913b8",
   "metadata": {},
   "outputs": [
    {
     "data": {
      "image/png": "[encoded data removed]",
      "text/plain": [
       "<Figure size 432x288 with 1 Axes>"
      ]
     },
     "metadata": {
      "needs_background": "light"
     },
     "output_type": "display_data"
    }
   ],
   "source": [
    "test = torch.from_numpy(scaled).float()\n",
    "# TODO - better this\n",
    "vae.eval()\n",
    "with torch.no_grad():\n",
    "    out = vae(test)\n",
    "    z_samples = out.mu_z + torch.randn_like(out.mu_z) * torch.sqrt(out.sig_z)\n",
    "    z_2d = z_samples.detach().numpy()\n",
    "    try:\n",
    "        plt.hist2d(z_2d[:, 0], z_2d[:, 1])\n",
    "    except IndexError:\n",
    "        plt.hist(z_2d)"
   ]
  },
  {
   "cell_type": "code",
   "execution_count": 78,
   "id": "d6c7603d-5274-4ccf-a852-0cb66d458056",
   "metadata": {},
   "outputs": [
    {
     "name": "stdout",
     "output_type": "stream",
     "text": [
      "tensor([[10.]])\n"
     ]
    },
    {
     "data": {
      "image/png": "[encoded data removed]",
      "text/plain": [
       "<Figure size 432x288 with 1 Axes>"
      ]
     },
     "metadata": {
      "needs_background": "light"
     },
     "output_type": "display_data"
    }
   ],
   "source": [
    "num_samples = 10\n",
    "# TODO - better this\n",
    "vae.eval()\n",
    "with torch.no_grad():\n",
    "    z_samples = torch.randn((num_samples, latent_dim))\n",
    "    mu_x, sig_x = vae.decoder(z_samples)\n",
    "    x_samples = mu_x + torch.randn_like(mu_x) * torch.sqrt(sig_x)\n",
    "    x_2d = rescale_data(x_samples.detach().numpy(), mean_std)\n",
    "    try:\n",
    "        plt.hist2d(x_2d[:, 0], x_2d[:, 1])\n",
    "    except IndexError:\n",
    "        plt.hist(x_2d)"
   ]
  },
  {
   "cell_type": "code",
   "execution_count": null,
   "id": "b5bd37f5-736c-49bf-97d1-ba2d5d8b3329",
   "metadata": {},
   "outputs": [],
   "source": [
    "# mu = torch.tensor([[1.0, -1.0,]])\n",
    "# sig = torch.tensor([[2.0, 2.0]])\n",
    "# t1 = np.linspace(0.1, 1.0)\n",
    "# X, Y = np.meshgrid(t1, t1)\n",
    "# Z = np.zeros_like(X)\n",
    "# for i in range(t1.shape[0]):\n",
    "#     for j in range(t1.shape[0]):\n",
    "#         Z[i, j] += gaussian_kl(\n",
    "#             left_mu=X[i, j] * mu,\n",
    "#             left_sig=Y[i, j] * sig,\n",
    "#             right_mu=torch.zeros_like(mu),\n",
    "#             right_sig=torch.ones_like(sig),\n",
    "#         )\n",
    "#         Z[i, j] += nn.GaussianNLLLoss()(mu, X[i, j] * mu, Y[i, j] * sig)\n",
    "\n",
    "# plt.contour(X, Y, Z, 20, cmap=\"RdGy\")\n",
    "# plt.colorbar()"
   ]
  }
 ],
 "metadata": {
  "kernelspec": {
   "display_name": "Python 3 (ipykernel)",
   "language": "python",
   "name": "python3"
  },
  "language_info": {
   "codemirror_mode": {
    "name": "ipython",
    "version": 3
   },
   "file_extension": ".py",
   "mimetype": "text/x-python",
   "name": "python",
   "nbconvert_exporter": "python",
   "pygments_lexer": "ipython3",
   "version": "3.9.7"
  }
 },
 "nbformat": 4,
 "nbformat_minor": 5
}

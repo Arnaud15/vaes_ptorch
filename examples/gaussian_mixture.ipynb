{
 "cells": [
  {
   "cell_type": "code",
   "execution_count": 1,
   "id": "19ae9fce-0385-457a-a147-9cb833a77be5",
   "metadata": {},
   "outputs": [],
   "source": [
    "import os\n",
    "\n",
    "import matplotlib.pyplot as plt\n",
    "import numpy as np\n",
    "import scipy.stats as sts\n",
    "import torch\n",
    "import torch.nn as nn\n",
    "import torch.utils.data as tdata\n",
    "from em import em_gaussian_mixture\n",
    "from old_faithful import get_old_faithful_data\n",
    "\n",
    "from vaes_ptorch import VAE, GaussianMLP, TrainArgs, train\n",
    "from vaes_ptorch.args import DivAnnealing"
   ]
  },
  {
   "cell_type": "code",
   "execution_count": 2,
   "id": "1ae6f3a8-84e8-4b07-80ac-892ed678b719",
   "metadata": {},
   "outputs": [],
   "source": [
    "save_path = os.path.expanduser(\"~/vaes_ptorch/data\")\n",
    "er, waits = get_old_faithful_data(save=True, save_dir=save_path)"
   ]
  },
  {
   "cell_type": "code",
   "execution_count": 3,
   "id": "ed15937c-e153-4b7d-803d-f03dc42e6a25",
   "metadata": {},
   "outputs": [
    {
     "data": {
      "image/png": "[encoded data removed]",
      "text/plain": [
       "<Figure size 432x288 with 1 Axes>"
      ]
     },
     "metadata": {
      "needs_background": "light"
     },
     "output_type": "display_data"
    }
   ],
   "source": [
    "plt.hist2d(er, waits, alpha=1.0)\n",
    "plt.xlabel(\"Eruption durations (mins)\")\n",
    "plt.ylabel(\"Wait time between eruptions (mins)\");"
   ]
  },
  {
   "cell_type": "code",
   "execution_count": 33,
   "id": "02da0ce7-95d8-466e-8d70-21549e38dd2f",
   "metadata": {},
   "outputs": [
    {
     "data": {
      "text/plain": [
       "(272, 2)"
      ]
     },
     "execution_count": 33,
     "metadata": {},
     "output_type": "execute_result"
    },
    {
     "data": {
      "image/png": "[encoded data removed]",
      "text/plain": [
       "<Figure size 432x288 with 1 Axes>"
      ]
     },
     "metadata": {
      "needs_background": "light"
     },
     "output_type": "display_data"
    }
   ],
   "source": [
    "def scale_data(data):  # of shape n, p\n",
    "    mean_, std_ = data.mean(0), data.std(0)\n",
    "    return (data - mean_) / std_, (mean_, std_)\n",
    "\n",
    "\n",
    "data = np.concatenate([er.reshape(-1, 1), waits.reshape(-1, 1)], 1)\n",
    "data, _ = scale_data(data)\n",
    "plt.hist2d(data[:, 0], data[:, 1], alpha=1.0)\n",
    "plt.xlabel(\"Scaled eruption durations\")\n",
    "plt.ylabel(\"Scaled wait time between eruptions\")\n",
    "data.shape"
   ]
  },
  {
   "cell_type": "code",
   "execution_count": 34,
   "id": "cf79a16c-d52f-468e-bfa9-0433b5b54f52",
   "metadata": {},
   "outputs": [
    {
     "data": {
      "text/plain": [
       "Theta(mu=[array([0.7038525 , 0.66846596]), array([-1.27396762, -1.20991826])], sigma=[array([[0.13095257, 0.06084201],\n",
       "       [0.06084201, 0.19575032]]), array([[0.05329039, 0.02814822],\n",
       "       [0.02814822, 0.18299437]])], gamma=array([0.64412714, 0.35587286]))"
      ]
     },
     "execution_count": 34,
     "metadata": {},
     "output_type": "execute_result"
    }
   ],
   "source": [
    "theta = em_gaussian_mixture(data, 2, 1000)\n",
    "theta"
   ]
  },
  {
   "cell_type": "code",
   "execution_count": 35,
   "id": "897bd5a6-f216-4d38-af52-d19e1b6a98f1",
   "metadata": {},
   "outputs": [
    {
     "data": {
      "text/plain": [
       "<matplotlib.contour.QuadContourSet at 0x7f82d19c2910>"
      ]
     },
     "execution_count": 35,
     "metadata": {},
     "output_type": "execute_result"
    },
    {
     "data": {
      "image/png": "[encoded data removed]",
      "text/plain": [
       "<Figure size 432x288 with 1 Axes>"
      ]
     },
     "metadata": {
      "needs_background": "light"
     },
     "output_type": "display_data"
    }
   ],
   "source": [
    "x = np.linspace(data[:, 0].min(), data[:, 0].max(), num=100)\n",
    "y = np.linspace(data[:, 1].min(), data[:, 1].max(), num=100)\n",
    "X, Y = np.meshgrid(x, y)\n",
    "\n",
    "XY = np.concatenate([X[:, :, np.newaxis], Y[:, :, np.newaxis]], axis=-1)\n",
    "\n",
    "pdfs = (\n",
    "    sts.multivariate_normal.pdf(XY, theta.mu[0], theta.sigma[0])\n",
    "    * theta.gamma[0]\n",
    "    + sts.multivariate_normal.pdf(XY, theta.mu[1], theta.sigma[1])\n",
    "    * theta.gamma[1]\n",
    ")\n",
    "\n",
    "plt.contourf(X, Y, pdfs)"
   ]
  },
  {
   "cell_type": "code",
   "execution_count": 112,
   "id": "fbe6f34f-d5e7-47b2-90e8-c1bdc4bc78a1",
   "metadata": {},
   "outputs": [],
   "source": [
    "data_dim = 2\n",
    "latent_dim = 1\n",
    "\n",
    "h_size = 128\n",
    "h_layers = 5\n",
    "\n",
    "lr = 1e-2\n",
    "batch_size = 256\n",
    "num_epochs = 300\n",
    "\n",
    "print_every = 100\n",
    "\n",
    "info_vae = True\n",
    "# info_vae = False\n",
    "start_scale = 0.05\n",
    "end_scale = 0.05\n",
    "# start_scale = 0.005\n",
    "# end_scale = 0.005\n",
    "start_epochs = 0\n",
    "linear_epochs = 0"
   ]
  },
  {
   "cell_type": "code",
   "execution_count": 113,
   "id": "c503e3b9-d457-4731-b7ca-d6619b8767cf",
   "metadata": {},
   "outputs": [],
   "source": [
    "dataset = tdata.TensorDataset(torch.from_numpy(data).float())\n",
    "dataloader = tdata.DataLoader(\n",
    "    dataset=dataset, batch_size=batch_size, shuffle=True\n",
    ")"
   ]
  },
  {
   "cell_type": "code",
   "execution_count": 114,
   "id": "0455a0be-0b7d-4091-947d-e3075c5622da",
   "metadata": {},
   "outputs": [],
   "source": [
    "encoder = GaussianMLP(\n",
    "    in_dim=data_dim, h_dims=[h_size] * h_layers, out_dim=latent_dim\n",
    ")\n",
    "decoder = GaussianMLP(\n",
    "    in_dim=latent_dim, h_dims=[h_size] * h_layers, out_dim=data_dim\n",
    ")\n",
    "vae = VAE(encoder=encoder, decoder=decoder)\n",
    "optimizer = torch.optim.Adam(params=vae.parameters(), lr=lr)\n",
    "train_args = TrainArgs(\n",
    "    info_vae=info_vae,\n",
    "    num_epochs=num_epochs,\n",
    "    div_annealing=DivAnnealing(\n",
    "        start_epochs=start_epochs,\n",
    "        linear_epochs=linear_epochs,\n",
    "        start_scale=start_scale,\n",
    "        end_scale=end_scale,\n",
    "    ),\n",
    "    print_every=print_every,\n",
    "    smoothing=0.9,\n",
    ")"
   ]
  },
  {
   "cell_type": "code",
   "execution_count": 115,
   "id": "e68119ea-f82e-49ea-b514-7c4bd95fae63",
   "metadata": {},
   "outputs": [
    {
     "name": "stdout",
     "output_type": "stream",
     "text": [
      "Step: 0 | Loss: 0.49448 | Div scale: 0.050\n",
      "NLL: 0.49442 | MMD-div: 0.00109\n",
      "Step: 100 | Loss: 0.03067 | Div scale: 0.050\n",
      "NLL: 0.02473 | MMD-div: 0.03602\n",
      "Step: 200 | Loss: 0.02367 | Div scale: 0.050\n",
      "NLL: 0.02141 | MMD-div: 0.02296\n",
      "Step: 300 | Loss: 0.02823 | Div scale: 0.050\n",
      "NLL: 0.02261 | MMD-div: 0.02136\n",
      "Step: 400 | Loss: 0.02207 | Div scale: 0.050\n",
      "NLL: 0.01996 | MMD-div: 0.00224\n",
      "Step: 500 | Loss: 0.02392 | Div scale: 0.050\n",
      "NLL: 0.02215 | MMD-div: 0.00335\n"
     ]
    }
   ],
   "source": [
    "train(data=dataloader, vae=vae, optimizer=optimizer, args=train_args)"
   ]
  },
  {
   "cell_type": "code",
   "execution_count": 116,
   "id": "8367fdbb-01cb-4e82-9b86-c123873b7a08",
   "metadata": {},
   "outputs": [],
   "source": [
    "def plot_pdf_2d(xs, ys, zs, conditional_dist):\n",
    "    mu, var = conditional_dist(zs)\n",
    "    mu, var = mu.detach().numpy(), var.detach().numpy()\n",
    "    X, Y = np.meshgrid(xs, ys)\n",
    "    XY = np.concatenate([X[:, :, np.newaxis], Y[:, :, np.newaxis]], axis=-1)\n",
    "\n",
    "    pdfs = np.zeros_like(X)\n",
    "    for ix in range(mu.shape[0]):\n",
    "        pdf_ix = sts.multivariate_normal.pdf(XY, mu[ix], np.sqrt(var[ix]))\n",
    "        pdfs += pdf_ix\n",
    "    pdfs /= mu.shape[0]\n",
    "    plt.contourf(X, Y, pdfs)\n",
    "\n",
    "\n",
    "n_monte_carlo_samples = 1000"
   ]
  },
  {
   "cell_type": "code",
   "execution_count": 117,
   "id": "fb2f061d-db79-4332-8da3-34c5610d74b4",
   "metadata": {},
   "outputs": [
    {
     "data": {
      "image/png": "[encoded data removed]",
      "text/plain": [
       "<Figure size 432x288 with 1 Axes>"
      ]
     },
     "metadata": {
      "needs_background": "light"
     },
     "output_type": "display_data"
    }
   ],
   "source": [
    "x_grid = np.linspace(-2.0, 2.0, num=100)\n",
    "y_grid = np.linspace(-2.0, 2.0, num=100)\n",
    "z_samples = torch.randn((n_monte_carlo_samples, 1))\n",
    "\n",
    "vae.eval()\n",
    "with torch.no_grad():\n",
    "    plt.figure()\n",
    "    plot_pdf_2d(x_grid, y_grid, z_samples, vae.decoder)\n",
    "    plt.title(\"approx p data\")\n",
    "    plt.show()\n",
    "    plt.close()"
   ]
  }
 ],
 "metadata": {
  "kernelspec": {
   "display_name": "Python 3 (ipykernel)",
   "language": "python",
   "name": "python3"
  },
  "language_info": {
   "codemirror_mode": {
    "name": "ipython",
    "version": 3
   },
   "file_extension": ".py",
   "mimetype": "text/x-python",
   "name": "python",
   "nbconvert_exporter": "python",
   "pygments_lexer": "ipython3",
   "version": "3.9.7"
  }
 },
 "nbformat": 4,
 "nbformat_minor": 5
}

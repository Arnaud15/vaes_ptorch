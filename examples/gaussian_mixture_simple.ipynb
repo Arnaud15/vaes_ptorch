{
 "cells": [
  {
   "cell_type": "markdown",
   "id": "16ec73be-dd25-49d9-8c52-6c90c10eac8d",
   "metadata": {},
   "source": [
    "## VAE and InfoVAE on a simplistic Gaussian Mixture problem"
   ]
  },
  {
   "cell_type": "code",
   "execution_count": 8,
   "id": "19ae9fce-0385-457a-a147-9cb833a77be5",
   "metadata": {},
   "outputs": [],
   "source": [
    "import os\n",
    "\n",
    "import matplotlib.pyplot as plt\n",
    "import numpy as np\n",
    "import scipy.stats as sts\n",
    "import torch\n",
    "import torch.nn as nn\n",
    "import torch.utils.data as tdata\n",
    "\n",
    "import vaes_ptorch.args as args\n",
    "import vaes_ptorch.models as models\n",
    "import vaes_ptorch.train_vae as train_vae\n",
    "import vaes_ptorch.vae as vae_nn\n",
    "import vaes_ptorch.proba as proba"
   ]
  },
  {
   "cell_type": "code",
   "execution_count": 2,
   "id": "cf79a16c-d52f-468e-bfa9-0433b5b54f52",
   "metadata": {},
   "outputs": [],
   "source": [
    "data = np.array([[1.0], [-1.0]])"
   ]
  },
  {
   "cell_type": "code",
   "execution_count": 3,
   "id": "f49aacd2-9831-482b-93cc-08aee8a66ddb",
   "metadata": {},
   "outputs": [
    {
     "data": {
      "text/plain": [
       "(array([1., 0., 0., 0., 0., 0., 0., 0., 0., 1.]),\n",
       " array([-1. , -0.8, -0.6, -0.4, -0.2,  0. ,  0.2,  0.4,  0.6,  0.8,  1. ]),\n",
       " <BarContainer object of 10 artists>)"
      ]
     },
     "execution_count": 3,
     "metadata": {},
     "output_type": "execute_result"
    },
    {
     "data": {
      "image/png": "[encoded data removed]",
      "text/plain": [
       "<Figure size 432x288 with 1 Axes>"
      ]
     },
     "metadata": {
      "needs_background": "light"
     },
     "output_type": "display_data"
    }
   ],
   "source": [
    "plt.hist(data.flatten())"
   ]
  },
  {
   "cell_type": "code",
   "execution_count": 16,
   "id": "fbe6f34f-d5e7-47b2-90e8-c1bdc4bc78a1",
   "metadata": {},
   "outputs": [],
   "source": [
    "data_dim = 1\n",
    "latent_dim = 1\n",
    "\n",
    "h_size = 128\n",
    "h_layers = 3\n",
    "\n",
    "lr = 1e-3\n",
    "batch_size = 2\n",
    "num_epochs = 1000\n",
    "\n",
    "print_every = 100\n",
    "\n",
    "info_vae = False\n",
    "end_scale = 1.0\n",
    "\n",
    "# info_vae = True\n",
    "# end_scale = 10.0"
   ]
  },
  {
   "cell_type": "code",
   "execution_count": 17,
   "id": "c503e3b9-d457-4731-b7ca-d6619b8767cf",
   "metadata": {},
   "outputs": [],
   "source": [
    "dataset = tdata.TensorDataset(torch.from_numpy(data).float())\n",
    "dataloader = tdata.DataLoader(\n",
    "    dataset=dataset, batch_size=batch_size, shuffle=True, collate_fn=torch.tensor\n",
    ")"
   ]
  },
  {
   "cell_type": "code",
   "execution_count": 18,
   "id": "0455a0be-0b7d-4091-947d-e3075c5622da",
   "metadata": {},
   "outputs": [],
   "source": [
    "encoder = models.get_mlp(\n",
    "        in_dim=data_dim,\n",
    "        out_dim=2 * latent_dim,\n",
    "        h_dim=h_size,\n",
    "        n_hidden=h_layers,\n",
    "    )\n",
    "decoder = models.get_mlp(\n",
    "        in_dim=latent_dim,\n",
    "        out_dim=2 * data_dim,\n",
    "        h_dim=h_size,\n",
    "        n_hidden=h_layers,\n",
    "    )\n",
    "vae = vae_nn.GaussianVAE(\n",
    "    encoder=encoder,\n",
    "    decoder=decoder,\n",
    "    latent_dim=latent_dim,\n",
    "    obs_model=proba.ObsModel.Gaussian,\n",
    ")\n",
    "optimizer = torch.optim.Adam(params=vae.parameters(), lr=lr)\n",
    "train_args = args.TrainArgs(\n",
    "    num_epochs=num_epochs,\n",
    "    info_vae=info_vae,\n",
    "    print_every=print_every,\n",
    "    target_div_scale=end_scale,\n",
    ")"
   ]
  },
  {
   "cell_type": "code",
   "execution_count": 19,
   "id": "e68119ea-f82e-49ea-b514-7c4bd95fae63",
   "metadata": {},
   "outputs": [
    {
     "name": "stdout",
     "output_type": "stream",
     "text": [
      "Training logs for step: 100, epoch: 100, info: loss: 1.33031 | nll: -0.35543 | div: 1.68574 | div_scale: 1.00000\n",
      "Training logs for step: 200, epoch: 200, info: loss: 2.54646 | nll: -0.58305 | div: 3.12951 | div_scale: 1.00000\n",
      "Training logs for step: 300, epoch: 300, info: loss: 1.30045 | nll: 0.53331 | div: 0.76714 | div_scale: 1.00000\n",
      "Training logs for step: 400, epoch: 400, info: loss: 3.47413 | nll: 1.05019 | div: 2.42394 | div_scale: 1.00000\n",
      "Training logs for step: 500, epoch: 500, info: loss: 1.57154 | nll: -0.00603 | div: 1.57756 | div_scale: 1.00000\n",
      "Training logs for step: 600, epoch: 600, info: loss: 0.51260 | nll: -0.78631 | div: 1.29891 | div_scale: 1.00000\n",
      "Training logs for step: 700, epoch: 700, info: loss: 0.09617 | nll: -1.08673 | div: 1.18290 | div_scale: 1.00000\n",
      "Training logs for step: 800, epoch: 800, info: loss: -0.09926 | nll: -1.71215 | div: 1.61288 | div_scale: 1.00000\n",
      "Training logs for step: 900, epoch: 900, info: loss: 0.54577 | nll: -0.61323 | div: 1.15900 | div_scale: 1.00000\n",
      "Training logs for step: 1000, epoch: 1000, info: loss: -0.85809 | nll: -1.85541 | div: 0.99733 | div_scale: 1.00000\n"
     ]
    },
    {
     "data": {
      "text/plain": [
       "({'loss': -0.8580866446665417,\n",
       "  'nll': -1.8554142050570392,\n",
       "  'div': 0.9973275589315336,\n",
       "  'div_scale': 1.0},\n",
       " {})"
      ]
     },
     "execution_count": 19,
     "metadata": {},
     "output_type": "execute_result"
    }
   ],
   "source": [
    "train_vae.train(\n",
    "    train_data=dataloader, vae=vae, optimizer=optimizer, train_args=train_args\n",
    ")"
   ]
  },
  {
   "cell_type": "markdown",
   "id": "d837568f-79a6-4a05-a59c-31e0e63ff702",
   "metadata": {},
   "source": [
    "### Looking at the input space"
   ]
  },
  {
   "cell_type": "markdown",
   "id": "a5a8d685-5f96-4a45-bda5-1f92df7a3b2a",
   "metadata": {},
   "source": [
    "First, we look at the approximate data distribution:\n",
    "- $p_{\\theta}(x) = \\int_z p(z) p_{\\theta}(x| z) dz$\n",
    "\n",
    "Second, we look at the reconstruction distributions:\n",
    "- $p_{\\theta, 1}(x) = \\int_z q_{\\phi}(z| x = 1)p_{\\theta}(x | z)dz$\n",
    "- $p_{\\theta, -1}(x) = \\int_z q_{\\phi}(z| x = -1)p_{\\theta}(x | z)dz$"
   ]
  },
  {
   "cell_type": "code",
   "execution_count": 20,
   "id": "e24d48d9-4251-4bd9-842c-f9745cfcccd1",
   "metadata": {},
   "outputs": [],
   "source": [
    "def plot_pdf(xs, zs, to_dist, label):\n",
    "    p_x_given_z = to_dist(zs)\n",
    "    pdf = torch.exp(p_x_given_z.log_prob(torch.from_numpy(xs))).mean(0).detach().numpy()\n",
    "    plt.plot(xs, pdf, label=label)\n",
    "\n",
    "\n",
    "n_monte_carlo_samples = 5000"
   ]
  },
  {
   "cell_type": "code",
   "execution_count": 21,
   "id": "613cd805-4f6d-43da-9d58-def398283fe0",
   "metadata": {},
   "outputs": [
    {
     "data": {
      "image/png": "[encoded data removed]",
      "text/plain": [
       "<Figure size 432x288 with 1 Axes>"
      ]
     },
     "metadata": {
      "needs_background": "light"
     },
     "output_type": "display_data"
    }
   ],
   "source": [
    "x_grid = np.linspace(-2.0, 2.0, num=1000)\n",
    "p_z_given_x1 = vae.encode(torch.ones((1,)))\n",
    "z1_samples = p_z_given_x1.sample((n_monte_carlo_samples,))\n",
    "p_z_given_x_1 = vae.encode(-torch.ones((1,)))\n",
    "z_1_samples = p_z_given_x_1.sample((n_monte_carlo_samples,))\n",
    "z_samples = vae.sample_prior(n_monte_carlo_samples)\n",
    "\n",
    "vae.eval()\n",
    "with torch.no_grad():\n",
    "    plt.figure()\n",
    "    plot_pdf(x_grid, z_samples, vae.decode, \"approx p_data\")\n",
    "    plot_pdf(x_grid, z1_samples, vae.decode, \"reconstruct x = 1\")\n",
    "    plot_pdf(x_grid, z_1_samples, vae.decode, \"reconstruct x = -1\")\n",
    "    plt.grid()\n",
    "    plt.legend()\n",
    "    plt.show()\n",
    "    plt.close()"
   ]
  },
  {
   "cell_type": "markdown",
   "id": "dcf872a6-a6af-4a70-ac2f-f30ec4ecafc9",
   "metadata": {},
   "source": [
    "### Looking at the latent space\n",
    "First, we look at the approximate prior distribution:\n",
    "- $q_{\\phi}(z) = \\frac{1}{2} q_{\\phi}(z | x = -1) + \\frac{1}{2} + q_{\\phi}(z| x = 1)$\n",
    "\n",
    "Second, we look at the approximate posterior distributions:\n",
    "- $q_{\\phi}(z | x = -1)$\n",
    "- $q_{\\phi}(z | x = 1)$"
   ]
  },
  {
   "cell_type": "code",
   "execution_count": 22,
   "id": "d4d14d01-e2a6-4802-8732-4d2253c913b8",
   "metadata": {},
   "outputs": [
    {
     "data": {
      "image/png": "[encoded data removed]",
      "text/plain": [
       "<Figure size 432x288 with 1 Axes>"
      ]
     },
     "metadata": {
      "needs_background": "light"
     },
     "output_type": "display_data"
    }
   ],
   "source": [
    "z_grid = np.linspace(-2, 2.0, num=1000)\n",
    "vae.eval()\n",
    "with torch.no_grad():\n",
    "    plt.figure()\n",
    "    plot_pdf(z_grid, torch.from_numpy(data).float(), vae.encode, \"q_z\")\n",
    "    plot_pdf(z_grid, torch.ones((1, 1)), vae.encode, \"q(z | x = 1)\")\n",
    "    plot_pdf(z_grid, -torch.ones((1, 1)), vae.encode, \"q(z | x = -1)\")\n",
    "    plt.grid()\n",
    "    plt.legend()\n",
    "    plt.show()\n",
    "    plt.close()"
   ]
  }
 ],
 "metadata": {
  "kernelspec": {
   "display_name": "Python 3 (ipykernel)",
   "language": "python",
   "name": "python3"
  },
  "language_info": {
   "codemirror_mode": {
    "name": "ipython",
    "version": 3
   },
   "file_extension": ".py",
   "mimetype": "text/x-python",
   "name": "python",
   "nbconvert_exporter": "python",
   "pygments_lexer": "ipython3",
   "version": "3.9.7"
  }
 },
 "nbformat": 4,
 "nbformat_minor": 5
}

{
 "cells": [
  {
   "cell_type": "code",
   "execution_count": 1,
   "id": "19ae9fce-0385-457a-a147-9cb833a77be5",
   "metadata": {},
   "outputs": [],
   "source": [
    "import os\n",
    "\n",
    "import matplotlib.pyplot as plt\n",
    "import numpy as np\n",
    "\n",
    "from em import em_gaussian_mixture\n",
    "from old_faithful import get_old_faithful_data"
   ]
  },
  {
   "cell_type": "code",
   "execution_count": 2,
   "id": "1ae6f3a8-84e8-4b07-80ac-892ed678b719",
   "metadata": {},
   "outputs": [],
   "source": [
    "save_path = os.path.expanduser(\"~/vaes_ptorch/data\")\n",
    "er, waits = get_old_faithful_data(save=True, save_dir=save_path)"
   ]
  },
  {
   "cell_type": "code",
   "execution_count": 3,
   "id": "ed15937c-e153-4b7d-803d-f03dc42e6a25",
   "metadata": {},
   "outputs": [
    {
     "data": {
      "image/png": "[encoded data removed]",
      "text/plain": [
       "<Figure size 432x288 with 1 Axes>"
      ]
     },
     "metadata": {
      "needs_background": "light"
     },
     "output_type": "display_data"
    }
   ],
   "source": [
    "plt.hist2d(er, waits, alpha=1.0)\n",
    "plt.xlabel(\"Eruption durations (mins)\")\n",
    "plt.ylabel(\"Wait time between eruptions (mins)\");"
   ]
  },
  {
   "cell_type": "code",
   "execution_count": 4,
   "id": "cf79a16c-d52f-468e-bfa9-0433b5b54f52",
   "metadata": {},
   "outputs": [
    {
     "data": {
      "text/plain": [
       "Theta(mu=[array([ 4.28966197, 79.96811517]), array([ 2.03638845, 54.47851638])], sigma=[array([[ 0.16996844,  0.94060932],\n",
       "       [ 0.94060932, 36.04621132]]), array([[ 0.06916767,  0.43516762],\n",
       "       [ 0.43516762, 33.69728207]])], gamma=array([0.64412714, 0.35587286]))"
      ]
     },
     "execution_count": 4,
     "metadata": {},
     "output_type": "execute_result"
    }
   ],
   "source": [
    "data = np.concatenate([er.reshape(-1, 1), waits.reshape(-1, 1)], 1)\n",
    "theta = em_gaussian_mixture(data, 2, 1000)\n",
    "theta"
   ]
  },
  {
   "cell_type": "code",
   "execution_count": 5,
   "id": "deba6e33-4d52-4abc-b198-0e38908c93fb",
   "metadata": {},
   "outputs": [],
   "source": [
    "import torch\n",
    "import torch.utils.data as tdata\n",
    "from vaes_ptorch import VAE, GaussianMLP, TrainArgs, train"
   ]
  },
  {
   "cell_type": "code",
   "execution_count": 6,
   "id": "b61a71bc-6726-4f6f-a35a-962839ffda1f",
   "metadata": {},
   "outputs": [],
   "source": [
    "scaled = 2 * (data - data.min(0)) / (data.max(0) - data.min(0)) - 1"
   ]
  },
  {
   "cell_type": "code",
   "execution_count": 48,
   "id": "26de56c3-3cf2-4882-ac2a-b0c9d6859310",
   "metadata": {},
   "outputs": [],
   "source": [
    "dataset = tdata.TensorDataset(torch.from_numpy(scaled).float())\n",
    "dataloader = tdata.DataLoader(dataset=dataset, batch_size=128, shuffle=True)\n",
    "num_latents = 1\n",
    "encoder = GaussianMLP(in_dim=2, h_dims=[16, 16], out_dim=num_latents)\n",
    "decoder = GaussianMLP(in_dim=num_latents, h_dims=[16, 16], out_dim=2)\n",
    "vae = VAE(encoder=encoder, decoder=decoder)\n",
    "optimizer = torch.optim.Adam(params=vae.parameters(), lr=5 * 1e-3)\n",
    "train_args = TrainArgs(num_epochs=100, print_every=100, smoothing=0.9)"
   ]
  },
  {
   "cell_type": "code",
   "execution_count": 49,
   "id": "e68119ea-f82e-49ea-b514-7c4bd95fae63",
   "metadata": {},
   "outputs": [
    {
     "name": "stdout",
     "output_type": "stream",
     "text": [
      "Step: 100 | ELBO: -0.05389\n",
      "NLL: -0.03463 | KL: 0.00129\n",
      "Step: 200 | ELBO: -0.02905\n",
      "NLL: -0.06380 | KL: 0.00197\n",
      "Step: 300 | ELBO: -0.03161\n",
      "NLL: 0.00589 | KL: 0.00349\n"
     ]
    }
   ],
   "source": [
    "vae = train(data=dataloader, vae=vae, optimizer=optimizer, args=train_args)"
   ]
  },
  {
   "cell_type": "code",
   "execution_count": 50,
   "id": "d6c7603d-5274-4ccf-a852-0cb66d458056",
   "metadata": {},
   "outputs": [
    {
     "data": {
      "image/png": "[encoded data removed]",
      "text/plain": [
       "<Figure size 432x288 with 1 Axes>"
      ]
     },
     "metadata": {
      "needs_background": "light"
     },
     "output_type": "display_data"
    }
   ],
   "source": [
    "test = torch.from_numpy(scaled).float()\n",
    "\n",
    "vae.eval()\n",
    "with torch.no_grad():\n",
    "    out = vae(test)\n",
    "    xy = (out.mu_x.detach().numpy() + 1) * 0.5 * (\n",
    "        data.max(0) - data.min(0)\n",
    "    ) + data.min(0)\n",
    "    plt.hist2d(xy[:, 0], xy[:, 1], alpha=1.0)\n",
    "    plt.xlabel(\"Eruption durations (mins)\")\n",
    "    plt.ylabel(\"Wait time between eruptions (mins)\");"
   ]
  },
  {
   "cell_type": "code",
   "execution_count": null,
   "id": "2517351f-d066-4752-ac3f-d8def1aaecb2",
   "metadata": {},
   "outputs": [],
   "source": []
  }
 ],
 "metadata": {
  "kernelspec": {
   "display_name": "Python 3 (ipykernel)",
   "language": "python",
   "name": "python3"
  },
  "language_info": {
   "codemirror_mode": {
    "name": "ipython",
    "version": 3
   },
   "file_extension": ".py",
   "mimetype": "text/x-python",
   "name": "python",
   "nbconvert_exporter": "python",
   "pygments_lexer": "ipython3",
   "version": "3.9.7"
  }
 },
 "nbformat": 4,
 "nbformat_minor": 5
}

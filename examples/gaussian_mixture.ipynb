{
 "cells": [
  {
   "cell_type": "markdown",
   "id": "4984c9ff-57ce-45fa-a863-ffa69ceb1535",
   "metadata": {},
   "source": [
    "## VAE and InfoVAE on a bimodal gaussian distribution\n",
    "A closer look at real-world data from eruptions at the Old Faithful in Yellowstone.\n",
    "\n",
    "Eruption durations and wait time between eruptions at the Old Faithful approximately follow a bimodal gaussian distribution."
   ]
  },
  {
   "cell_type": "code",
   "execution_count": 3,
   "id": "19ae9fce-0385-457a-a147-9cb833a77be5",
   "metadata": {},
   "outputs": [],
   "source": [
    "import os\n",
    "\n",
    "import matplotlib.pyplot as plt\n",
    "import numpy as np\n",
    "import scipy.stats as sts\n",
    "import torch\n",
    "import torch.nn as nn\n",
    "import torch.utils.data as tdata\n",
    "from em import em_gaussian_mixture\n",
    "from old_faithful import get_old_faithful_data\n",
    "\n",
    "import vaes_ptorch.args as args\n",
    "import vaes_ptorch.models as models\n",
    "import vaes_ptorch.train_vae as train_vae\n",
    "import vaes_ptorch.vae as vae_nn"
   ]
  },
  {
   "cell_type": "code",
   "execution_count": 4,
   "id": "1ae6f3a8-84e8-4b07-80ac-892ed678b719",
   "metadata": {},
   "outputs": [
    {
     "name": "stderr",
     "output_type": "stream",
     "text": [
      "/Users/arnaudautef/miniconda3/envs/vaes/lib/python3.9/site-packages/urllib3/connectionpool.py:1043: InsecureRequestWarning: Unverified HTTPS request is being made to host 'www.stat.cmu.edu'. Adding certificate verification is strongly advised. See: https://urllib3.readthedocs.io/en/1.26.x/advanced-usage.html#ssl-warnings\n",
      "  warnings.warn(\n"
     ]
    }
   ],
   "source": [
    "save_path = os.path.expanduser(\"~/vaes_ptorch/data\")\n",
    "er, waits = get_old_faithful_data(save=True, save_dir=save_path)"
   ]
  },
  {
   "cell_type": "code",
   "execution_count": 5,
   "id": "ed15937c-e153-4b7d-803d-f03dc42e6a25",
   "metadata": {},
   "outputs": [
    {
     "data": {
      "image/png": "[encoded data removed]",
      "text/plain": [
       "<Figure size 432x288 with 1 Axes>"
      ]
     },
     "metadata": {
      "needs_background": "light"
     },
     "output_type": "display_data"
    }
   ],
   "source": [
    "plt.hist2d(er, waits, alpha=1.0)\n",
    "plt.xlabel(\"Eruption durations (mins)\")\n",
    "plt.ylabel(\"Wait time between eruptions (mins)\");"
   ]
  },
  {
   "cell_type": "code",
   "execution_count": 6,
   "id": "02da0ce7-95d8-466e-8d70-21549e38dd2f",
   "metadata": {},
   "outputs": [
    {
     "data": {
      "text/plain": [
       "(272, 2)"
      ]
     },
     "execution_count": 6,
     "metadata": {},
     "output_type": "execute_result"
    },
    {
     "data": {
      "image/png": "[encoded data removed]",
      "text/plain": [
       "<Figure size 432x288 with 1 Axes>"
      ]
     },
     "metadata": {
      "needs_background": "light"
     },
     "output_type": "display_data"
    }
   ],
   "source": [
    "def scale_data(data):  # of shape n, p\n",
    "    mean_, std_ = data.mean(0), data.std(0)\n",
    "    return (data - mean_) / std_, (mean_, std_)\n",
    "\n",
    "\n",
    "data = np.concatenate([er.reshape(-1, 1), waits.reshape(-1, 1)], 1)\n",
    "data, _ = scale_data(data)\n",
    "plt.hist2d(data[:, 0], data[:, 1], alpha=1.0)\n",
    "plt.xlabel(\"Scaled eruption durations\")\n",
    "plt.ylabel(\"Scaled wait time between eruptions\")\n",
    "data.shape"
   ]
  },
  {
   "cell_type": "code",
   "execution_count": 7,
   "id": "cf79a16c-d52f-468e-bfa9-0433b5b54f52",
   "metadata": {},
   "outputs": [
    {
     "data": {
      "text/plain": [
       "Theta(mu=[array([-1.27396762, -1.20991826]), array([0.7038525 , 0.66846596])], sigma=[array([[0.05329039, 0.02814822],\n",
       "       [0.02814822, 0.18299437]]), array([[0.13095257, 0.06084201],\n",
       "       [0.06084201, 0.19575032]])], gamma=array([0.35587286, 0.64412714]))"
      ]
     },
     "execution_count": 7,
     "metadata": {},
     "output_type": "execute_result"
    }
   ],
   "source": [
    "theta = em_gaussian_mixture(data, 2, 1000)\n",
    "theta"
   ]
  },
  {
   "cell_type": "code",
   "execution_count": 8,
   "id": "897bd5a6-f216-4d38-af52-d19e1b6a98f1",
   "metadata": {},
   "outputs": [
    {
     "data": {
      "text/plain": [
       "<matplotlib.contour.QuadContourSet at 0x7fecfae427f0>"
      ]
     },
     "execution_count": 8,
     "metadata": {},
     "output_type": "execute_result"
    },
    {
     "data": {
      "image/png": "[encoded data removed]",
      "text/plain": [
       "<Figure size 432x288 with 1 Axes>"
      ]
     },
     "metadata": {
      "needs_background": "light"
     },
     "output_type": "display_data"
    }
   ],
   "source": [
    "x = np.linspace(data[:, 0].min(), data[:, 0].max(), num=100)\n",
    "y = np.linspace(data[:, 1].min(), data[:, 1].max(), num=100)\n",
    "X, Y = np.meshgrid(x, y)\n",
    "\n",
    "XY = np.concatenate([X[:, :, np.newaxis], Y[:, :, np.newaxis]], axis=-1)\n",
    "\n",
    "pdfs = (\n",
    "    sts.multivariate_normal.pdf(XY, theta.mu[0], theta.sigma[0])\n",
    "    * theta.gamma[0]\n",
    "    + sts.multivariate_normal.pdf(XY, theta.mu[1], theta.sigma[1])\n",
    "    * theta.gamma[1]\n",
    ")\n",
    "\n",
    "plt.contourf(X, Y, pdfs)"
   ]
  },
  {
   "cell_type": "code",
   "execution_count": 44,
   "id": "fbe6f34f-d5e7-47b2-90e8-c1bdc4bc78a1",
   "metadata": {},
   "outputs": [],
   "source": [
    "data_dim = 2\n",
    "latent_dim = 1\n",
    "\n",
    "h_size = 128\n",
    "h_layers = 3\n",
    "\n",
    "lr = 1e-3\n",
    "batch_size = 64\n",
    "num_epochs = 500\n",
    "\n",
    "print_every = 100\n",
    "\n",
    "info_vae = True\n",
    "end_scale = 1.0\n",
    "\n",
    "# info_vae = False\n",
    "# end_scale = 0.005"
   ]
  },
  {
   "cell_type": "code",
   "execution_count": 45,
   "id": "0057a76e-752d-4c68-ac96-d3918ee77c39",
   "metadata": {},
   "outputs": [],
   "source": [
    "dataset = tdata.TensorDataset(torch.from_numpy(data).float())"
   ]
  },
  {
   "cell_type": "code",
   "execution_count": 46,
   "id": "2fdb2270-51ff-4e94-8d68-9546b84a7a01",
   "metadata": {},
   "outputs": [],
   "source": [
    "def simple_collate(data):\n",
    "    return torch.cat([x[0].unsqueeze(0) for x in data])"
   ]
  },
  {
   "cell_type": "code",
   "execution_count": 48,
   "id": "c18e3622-3888-4662-9789-87cf537fac18",
   "metadata": {},
   "outputs": [],
   "source": [
    "dataloader = tdata.DataLoader(\n",
    "    dataset=dataset, batch_size=batch_size, shuffle=True, collate_fn=simple_collate\n",
    ")"
   ]
  },
  {
   "cell_type": "code",
   "execution_count": 49,
   "id": "0455a0be-0b7d-4091-947d-e3075c5622da",
   "metadata": {},
   "outputs": [],
   "source": [
    "encoder = models.get_mlp(\n",
    "        in_dim=data_dim,\n",
    "        out_dim=2 * latent_dim,\n",
    "        h_dim=h_size,\n",
    "        n_hidden=h_layers,\n",
    "    )\n",
    "decoder = models.get_mlp(\n",
    "        in_dim=latent_dim,\n",
    "        out_dim=2 * data_dim,\n",
    "        h_dim=h_size,\n",
    "        n_hidden=h_layers,\n",
    "    )\n",
    "vae = vae_nn.GaussianVAE(\n",
    "    encoder=encoder,\n",
    "    decoder=decoder,\n",
    "    latent_dim=latent_dim,\n",
    "    obs_model=vae_nn.ObsModel.Gaussian,\n",
    "    device=\"cpu\",\n",
    ")\n",
    "optimizer = torch.optim.Adam(params=vae.parameters(), lr=lr)\n",
    "train_args = args.TrainArgs(\n",
    "    num_epochs=num_epochs,\n",
    "    info_vae=info_vae,\n",
    "    print_every=print_every,\n",
    "    target_div_scale=end_scale,\n",
    ")"
   ]
  },
  {
   "cell_type": "code",
   "execution_count": 50,
   "id": "e68119ea-f82e-49ea-b514-7c4bd95fae63",
   "metadata": {},
   "outputs": [
    {
     "name": "stdout",
     "output_type": "stream",
     "text": [
      "Training logs for step: 100, epoch: 20\n",
      "loss: 0.71800 | nll: 0.63510 | div: 0.08290\n",
      "Training logs for step: 200, epoch: 40\n",
      "loss: -0.70948 | nll: -0.80878 | div: 0.09931\n",
      "Training logs for step: 300, epoch: 60\n",
      "loss: 2.35117 | nll: 2.26411 | div: 0.08705\n",
      "Training logs for step: 400, epoch: 80\n",
      "loss: -0.78841 | nll: -0.92479 | div: 0.13638\n",
      "Training logs for step: 500, epoch: 100\n",
      "loss: 0.49514 | nll: 0.43815 | div: 0.05700\n",
      "Training logs for step: 600, epoch: 120\n",
      "loss: -1.32190 | nll: -1.35921 | div: 0.03730\n",
      "Training logs for step: 700, epoch: 140\n",
      "loss: -0.36353 | nll: -0.44783 | div: 0.08430\n",
      "Training logs for step: 800, epoch: 160\n",
      "loss: -1.19744 | nll: -1.23789 | div: 0.04044\n",
      "Training logs for step: 900, epoch: 180\n",
      "loss: -1.47146 | nll: -1.51491 | div: 0.04345\n",
      "Training logs for step: 1000, epoch: 200\n",
      "loss: -1.75463 | nll: -1.80985 | div: 0.05523\n",
      "Training logs for step: 1100, epoch: 220\n",
      "loss: -0.25804 | nll: -0.38685 | div: 0.12880\n",
      "Training logs for step: 1200, epoch: 240\n",
      "loss: -1.33229 | nll: -1.40088 | div: 0.06859\n",
      "Training logs for step: 1300, epoch: 260\n",
      "loss: -0.53361 | nll: -0.61058 | div: 0.07697\n",
      "Training logs for step: 1400, epoch: 280\n",
      "loss: -1.73853 | nll: -1.79101 | div: 0.05248\n",
      "Training logs for step: 1500, epoch: 300\n",
      "loss: -0.70352 | nll: -0.75206 | div: 0.04854\n",
      "Training logs for step: 1600, epoch: 320\n",
      "loss: -2.07050 | nll: -2.12106 | div: 0.05056\n",
      "Training logs for step: 1700, epoch: 340\n",
      "loss: -1.11635 | nll: -1.18185 | div: 0.06550\n",
      "Training logs for step: 1800, epoch: 360\n",
      "loss: -1.66895 | nll: -1.70898 | div: 0.04003\n",
      "Training logs for step: 1900, epoch: 380\n",
      "loss: -0.16867 | nll: -0.22861 | div: 0.05995\n",
      "Training logs for step: 2000, epoch: 400\n",
      "loss: -1.91200 | nll: -1.95547 | div: 0.04347\n",
      "Training logs for step: 2100, epoch: 420\n",
      "loss: -1.06047 | nll: -1.10210 | div: 0.04162\n",
      "Training logs for step: 2200, epoch: 440\n",
      "loss: -1.62852 | nll: -1.67591 | div: 0.04740\n",
      "Training logs for step: 2300, epoch: 460\n",
      "loss: -1.98259 | nll: -2.02213 | div: 0.03954\n",
      "Training logs for step: 2400, epoch: 480\n",
      "loss: -0.61670 | nll: -0.67013 | div: 0.05343\n",
      "Training logs for step: 2500, epoch: 500\n",
      "loss: -1.78435 | nll: -1.85762 | div: 0.07327\n"
     ]
    },
    {
     "data": {
      "text/plain": [
       "({'loss': -1.784354814580617,\n",
       "  'nll': -1.857621479065063,\n",
       "  'div': 0.07326666128185588},\n",
       " {})"
      ]
     },
     "execution_count": 50,
     "metadata": {},
     "output_type": "execute_result"
    }
   ],
   "source": [
    "train_vae.train(\n",
    "    train_data=dataloader, vae=vae, optimizer=optimizer, train_args=train_args\n",
    ")"
   ]
  },
  {
   "cell_type": "code",
   "execution_count": 91,
   "id": "8367fdbb-01cb-4e82-9b86-c123873b7a08",
   "metadata": {},
   "outputs": [],
   "source": [
    "def plot_pdf_2d(xs, ys, zs, to_dist):\n",
    "    p_x_given_z = to_dist(zs)\n",
    "    X, Y = np.meshgrid(xs, ys)\n",
    "    XY = np.concatenate([X[:, :, np.newaxis], Y[:, :, np.newaxis]], axis=-1)\n",
    "    pdf = torch.exp(p_x_given_z.log_prob(torch.from_numpy(XY)).sum(-1)).mean(0).detach().numpy()\n",
    "    plt.contourf(X, Y, pdf)\n",
    "\n",
    "\n",
    "n_monte_carlo_samples = 500"
   ]
  },
  {
   "cell_type": "markdown",
   "id": "c5b51b7a-be72-4d08-ba09-49f656fb9815",
   "metadata": {},
   "source": [
    "### Inference"
   ]
  },
  {
   "cell_type": "code",
   "execution_count": 92,
   "id": "fb2f061d-db79-4332-8da3-34c5610d74b4",
   "metadata": {},
   "outputs": [
    {
     "data": {
      "image/png": "[encoded data removed]",
      "text/plain": [
       "<Figure size 432x288 with 1 Axes>"
      ]
     },
     "metadata": {
      "needs_background": "light"
     },
     "output_type": "display_data"
    }
   ],
   "source": [
    "n = 30\n",
    "x_grid = np.linspace(data[:, 0].min(), data[:, 0].max(), num=n)\n",
    "y_grid = np.linspace(data[:, 1].min(), data[:, 1].max(), num=n)\n",
    "z_samples = torch.randn((n_monte_carlo_samples, n, n, latent_dim))\n",
    "\n",
    "vae.eval()\n",
    "with torch.no_grad():\n",
    "    plt.figure()\n",
    "    plot_pdf_2d(x_grid, y_grid, z_samples, vae.decode)\n",
    "    plt.title(\"approx p data\")\n",
    "    plt.show()\n",
    "    plt.close()"
   ]
  },
  {
   "cell_type": "markdown",
   "id": "8ae71ab3-2fbb-41c5-9ba0-e831d66c5fd6",
   "metadata": {},
   "source": [
    "### Generation"
   ]
  },
  {
   "cell_type": "code",
   "execution_count": 93,
   "id": "a5c89607-6c21-4d38-9a69-fdb658fb8436",
   "metadata": {},
   "outputs": [
    {
     "data": {
      "image/png": "[encoded data removed]",
      "text/plain": [
       "<Figure size 432x288 with 1 Axes>"
      ]
     },
     "metadata": {
      "needs_background": "light"
     },
     "output_type": "display_data"
    }
   ],
   "source": [
    "vae.eval()\n",
    "with torch.no_grad():\n",
    "    plt.figure()\n",
    "    _, p_x_given_z = vae(torch.from_numpy(data).float())\n",
    "    reconstructed = p_x_given_z.sample().detach().numpy()\n",
    "    plt.hist2d(reconstructed[:, 0], reconstructed[:, 1], alpha=1.0)\n",
    "    plt.title(\"reconstructed data\")\n",
    "    plt.show()\n",
    "    plt.close()"
   ]
  }
 ],
 "metadata": {
  "kernelspec": {
   "display_name": "Python 3 (ipykernel)",
   "language": "python",
   "name": "python3"
  },
  "language_info": {
   "codemirror_mode": {
    "name": "ipython",
    "version": 3
   },
   "file_extension": ".py",
   "mimetype": "text/x-python",
   "name": "python",
   "nbconvert_exporter": "python",
   "pygments_lexer": "ipython3",
   "version": "3.9.7"
  }
 },
 "nbformat": 4,
 "nbformat_minor": 5
}

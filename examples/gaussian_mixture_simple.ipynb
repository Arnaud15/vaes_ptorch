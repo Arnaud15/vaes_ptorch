{
 "cells": [
  {
   "cell_type": "markdown",
   "id": "16ec73be-dd25-49d9-8c52-6c90c10eac8d",
   "metadata": {},
   "source": [
    "## VAE and InfoVAE on a simplistic Gaussian Mixture problem"
   ]
  },
  {
   "cell_type": "code",
   "execution_count": 1,
   "id": "19ae9fce-0385-457a-a147-9cb833a77be5",
   "metadata": {},
   "outputs": [],
   "source": [
    "import os\n",
    "\n",
    "import matplotlib.pyplot as plt\n",
    "import numpy as np\n",
    "import scipy.stats as sts\n",
    "import torch\n",
    "import torch.nn as nn\n",
    "import torch.utils.data as tdata\n",
    "\n",
    "from vaes_ptorch import GaussianModel, GaussianVAE, TrainArgs, get_mlp, train\n",
    "from vaes_ptorch.args import DivAnnealing"
   ]
  },
  {
   "cell_type": "code",
   "execution_count": 2,
   "id": "cf79a16c-d52f-468e-bfa9-0433b5b54f52",
   "metadata": {},
   "outputs": [],
   "source": [
    "data = np.array([[1.0], [-1.0]])"
   ]
  },
  {
   "cell_type": "code",
   "execution_count": 3,
   "id": "f49aacd2-9831-482b-93cc-08aee8a66ddb",
   "metadata": {},
   "outputs": [
    {
     "data": {
      "text/plain": [
       "(array([1., 0., 0., 0., 0., 0., 0., 0., 0., 1.]),\n",
       " array([-1. , -0.8, -0.6, -0.4, -0.2,  0. ,  0.2,  0.4,  0.6,  0.8,  1. ]),\n",
       " <BarContainer object of 10 artists>)"
      ]
     },
     "execution_count": 3,
     "metadata": {},
     "output_type": "execute_result"
    },
    {
     "data": {
      "image/png": "[encoded data removed]",
      "text/plain": [
       "<Figure size 432x288 with 1 Axes>"
      ]
     },
     "metadata": {
      "needs_background": "light"
     },
     "output_type": "display_data"
    }
   ],
   "source": [
    "plt.hist(data.flatten())"
   ]
  },
  {
   "cell_type": "code",
   "execution_count": 4,
   "id": "fbe6f34f-d5e7-47b2-90e8-c1bdc4bc78a1",
   "metadata": {},
   "outputs": [],
   "source": [
    "data_dim = 1\n",
    "latent_dim = 1\n",
    "\n",
    "h_size = 128\n",
    "h_layers = 5\n",
    "\n",
    "lr = 1e-3\n",
    "batch_size = 2\n",
    "num_epochs = 1000\n",
    "\n",
    "print_every = 100\n",
    "\n",
    "# info_vae = True\n",
    "info_vae = False\n",
    "# start_scale = 1.0\n",
    "# end_scale = 1.0\n",
    "start_scale = 0.1\n",
    "end_scale = 0.1\n",
    "start_epochs = 0\n",
    "linear_epochs = 0"
   ]
  },
  {
   "cell_type": "code",
   "execution_count": 5,
   "id": "c503e3b9-d457-4731-b7ca-d6619b8767cf",
   "metadata": {},
   "outputs": [],
   "source": [
    "dataset = tdata.TensorDataset(torch.from_numpy(data).float())\n",
    "dataloader = tdata.DataLoader(\n",
    "    dataset=dataset, batch_size=batch_size, shuffle=True\n",
    ")"
   ]
  },
  {
   "cell_type": "code",
   "execution_count": 6,
   "id": "0455a0be-0b7d-4091-947d-e3075c5622da",
   "metadata": {},
   "outputs": [],
   "source": [
    "encoder = GaussianModel(\n",
    "    model=get_mlp(\n",
    "        in_dim=data_dim, out_dim=2 * latent_dim, h_dims=[h_size] * h_layers,\n",
    "    ),\n",
    "    out_dim=latent_dim,\n",
    "    min_var=1e-2,\n",
    ")\n",
    "decoder = GaussianModel(\n",
    "    model=get_mlp(\n",
    "        in_dim=latent_dim, out_dim=2 * data_dim, h_dims=[h_size] * h_layers,\n",
    "    ),\n",
    "    out_dim=data_dim,\n",
    "    min_var=0.0,\n",
    ")\n",
    "vae = GaussianVAE(encoder=encoder, decoder=decoder)\n",
    "optimizer = torch.optim.Adam(params=vae.parameters(), lr=lr)\n",
    "train_args = TrainArgs(\n",
    "    info_vae=info_vae,\n",
    "    num_epochs=num_epochs,\n",
    "    div_annealing=DivAnnealing(\n",
    "        start_epochs=start_epochs,\n",
    "        linear_epochs=linear_epochs,\n",
    "        start_scale=start_scale,\n",
    "        end_scale=end_scale,\n",
    "    ),\n",
    "    print_every=print_every,\n",
    "    smoothing=0.9,\n",
    ")"
   ]
  },
  {
   "cell_type": "code",
   "execution_count": 7,
   "id": "e68119ea-f82e-49ea-b514-7c4bd95fae63",
   "metadata": {},
   "outputs": [
    {
     "name": "stdout",
     "output_type": "stream",
     "text": [
      "Step: 0 | Loss: 0.50749 | Div scale: 0.100\n",
      "NLL: 0.50740 | KL: 0.00090\n",
      "Step: 100 | Loss: 0.24577 | Div scale: 0.100\n",
      "NLL: 0.01746 | KL: 1.50588\n",
      "Step: 200 | Loss: 0.21652 | Div scale: 0.100\n",
      "NLL: 0.11769 | KL: 1.11669\n",
      "Step: 300 | Loss: 0.17328 | Div scale: 0.100\n",
      "NLL: 0.00200 | KL: 1.21694\n",
      "Step: 400 | Loss: 0.16112 | Div scale: 0.100\n",
      "NLL: 0.05024 | KL: 1.07819\n",
      "Step: 500 | Loss: 0.18369 | Div scale: 0.100\n",
      "NLL: 0.00872 | KL: 1.40291\n",
      "Step: 600 | Loss: 0.21617 | Div scale: 0.100\n",
      "NLL: 0.00450 | KL: 1.23358\n",
      "Step: 700 | Loss: 0.25068 | Div scale: 0.100\n",
      "NLL: 0.00493 | KL: 1.62087\n",
      "Step: 800 | Loss: 0.19036 | Div scale: 0.100\n",
      "NLL: 0.03030 | KL: 1.52860\n",
      "Step: 900 | Loss: 0.19209 | Div scale: 0.100\n",
      "NLL: 0.00892 | KL: 1.38707\n"
     ]
    }
   ],
   "source": [
    "train(data=dataloader, vae=vae, optimizer=optimizer, args=train_args)"
   ]
  },
  {
   "cell_type": "markdown",
   "id": "d837568f-79a6-4a05-a59c-31e0e63ff702",
   "metadata": {},
   "source": [
    "### Looking at the input space"
   ]
  },
  {
   "cell_type": "markdown",
   "id": "a5a8d685-5f96-4a45-bda5-1f92df7a3b2a",
   "metadata": {},
   "source": [
    "First, we look at the approximate data distribution:\n",
    "- $p_{\\theta}(x) = \\int_z p(z) p_{\\theta}(x| z) dz$\n",
    "\n",
    "Second, we look at the reconstruction distributions:\n",
    "- $p_{\\theta, 1}(x) = \\int_z q_{\\phi}(z| x = 1)p_{\\theta}(x | z)dz$\n",
    "- $p_{\\theta, -1}(x) = \\int_z q_{\\phi}(z| x = -1)p_{\\theta}(x | z)dz$"
   ]
  },
  {
   "cell_type": "code",
   "execution_count": 8,
   "id": "e24d48d9-4251-4bd9-842c-f9745cfcccd1",
   "metadata": {},
   "outputs": [],
   "source": [
    "def plot_pdf(xs, zs, conditional_dist, label):\n",
    "    mu, var = conditional_dist(zs)\n",
    "    mu, var = mu.detach().numpy(), var.detach().numpy()\n",
    "    pdf = np.zeros_like(xs)\n",
    "    for i in range(mu.shape[0]):\n",
    "        pdf_i = sts.norm.pdf(xs, loc=mu[i], scale=np.sqrt(var[i]))\n",
    "        pdf += pdf_i\n",
    "    pdf /= mu.shape[0]\n",
    "    plt.plot(xs, pdf, label=label)\n",
    "\n",
    "\n",
    "n_monte_carlo_samples = 5000"
   ]
  },
  {
   "cell_type": "code",
   "execution_count": 9,
   "id": "613cd805-4f6d-43da-9d58-def398283fe0",
   "metadata": {},
   "outputs": [
    {
     "data": {
      "image/png": "[encoded data removed]",
      "text/plain": [
       "<Figure size 432x288 with 1 Axes>"
      ]
     },
     "metadata": {
      "needs_background": "light"
     },
     "output_type": "display_data"
    }
   ],
   "source": [
    "x_grid = np.linspace(-2.0, 2.0, num=1000)\n",
    "mu_z1, var_z1 = vae.encoder(torch.ones((1, 1)))\n",
    "z1_samples = (\n",
    "    torch.randn((n_monte_carlo_samples, 1)) * torch.sqrt(var_z1) + mu_z1\n",
    ")\n",
    "mu_z_1, var_z_1 = vae.encoder(-torch.ones((1, 1)))\n",
    "z_1_samples = (\n",
    "    torch.randn((n_monte_carlo_samples, 1)) * torch.sqrt(var_z_1) + mu_z_1\n",
    ")\n",
    "z_samples = torch.randn((n_monte_carlo_samples, 1))\n",
    "\n",
    "vae.eval()\n",
    "with torch.no_grad():\n",
    "    plt.figure()\n",
    "    plot_pdf(x_grid, z_samples, vae.decoder, \"approx p_data\")\n",
    "    plot_pdf(x_grid, z1_samples, vae.decoder, \"reconstruct x = 1\")\n",
    "    plot_pdf(x_grid, z_1_samples, vae.decoder, \"reconstruct x = -1\")\n",
    "    plt.grid()\n",
    "    plt.legend()\n",
    "    plt.show()\n",
    "    plt.close()"
   ]
  },
  {
   "cell_type": "markdown",
   "id": "dcf872a6-a6af-4a70-ac2f-f30ec4ecafc9",
   "metadata": {},
   "source": [
    "### Looking at the latent space\n",
    "First, we look at the approximate prior distribution:\n",
    "- $q_{\\phi}(z) = \\frac{1}{2} q_{\\phi}(z | x = -1) + \\frac{1}{2} + q_{\\phi}(z| x = 1)$\n",
    "\n",
    "Second, we look at the approximate posterior distributions:\n",
    "- $q_{\\phi}(z | x = -1)$\n",
    "- $q_{\\phi}(z | x = 1)$"
   ]
  },
  {
   "cell_type": "code",
   "execution_count": 10,
   "id": "d4d14d01-e2a6-4802-8732-4d2253c913b8",
   "metadata": {},
   "outputs": [
    {
     "data": {
      "image/png": "[encoded data removed]",
      "text/plain": [
       "<Figure size 432x288 with 1 Axes>"
      ]
     },
     "metadata": {
      "needs_background": "light"
     },
     "output_type": "display_data"
    }
   ],
   "source": [
    "z_grid = np.linspace(-2, 2.0, num=1000)\n",
    "vae.eval()\n",
    "with torch.no_grad():\n",
    "    plt.figure()\n",
    "    plot_pdf(z_grid, torch.from_numpy(data).float(), vae.decoder, \"q_z\")\n",
    "    plot_pdf(z_grid, torch.ones((1, 1)), vae.decoder, \"q(z | x = 1)\")\n",
    "    plot_pdf(z_grid, -torch.ones((1, 1)), vae.decoder, \"q(z | x = -1)\")\n",
    "    plt.grid()\n",
    "    plt.legend()\n",
    "    plt.show()\n",
    "    plt.close()"
   ]
  }
 ],
 "metadata": {
  "kernelspec": {
   "display_name": "Python 3 (ipykernel)",
   "language": "python",
   "name": "python3"
  },
  "language_info": {
   "codemirror_mode": {
    "name": "ipython",
    "version": 3
   },
   "file_extension": ".py",
   "mimetype": "text/x-python",
   "name": "python",
   "nbconvert_exporter": "python",
   "pygments_lexer": "ipython3",
   "version": "3.9.7"
  }
 },
 "nbformat": 4,
 "nbformat_minor": 5
}
